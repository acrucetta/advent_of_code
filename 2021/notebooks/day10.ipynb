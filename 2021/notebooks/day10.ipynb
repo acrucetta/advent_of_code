{
 "cells": [
  {
   "cell_type": "markdown",
   "metadata": {},
   "source": [
    "A corrupted line is one where a chunk closes with the wrong character -\n",
    "that is, where the characters it opens and closes with do not form one of\n",
    "the four legal pairs listed above."
   ]
  },
  {
   "cell_type": "markdown",
   "metadata": {},
   "source": [
    "Some of the lines aren't corrupted, just incomplete; you can ignore these\n",
    "lines for now.\n",
    "\n",
    "\n",
    "Did you know that syntax checkers actually have contests to see who can get\n",
    "the high score for syntax errors in a file? It's true! To calculate the\n",
    "syntax error score for a line, take the first illegal character on the line\n",
    "and look it up in the following table:\n",
    "- ): 3 points.\n",
    "- ]: 57 points. \n",
    "- }: 1197 points.          \n",
    "- \">:\" 25137 points.\n"
   ]
  },
  {
   "cell_type": "markdown",
   "metadata": {},
   "source": [
    "In the above example, an illegal ) was found twice (2*3 = 6 points), an\n",
    "illegal ] was found once (57 points), an illegal } was found once (1197\n",
    "points), and an illegal > was found once (25137 points). \n",
    "\n",
    "So, the total syntax error score for this file is 6+57+1197+25137 = 26397 points!\n",
    "\n",
    "Find the first illegal character in each corrupted line of the navigation subsystem. \n",
    "\n",
    "What is the total syntax error score for those errors?"
   ]
  },
  {
   "cell_type": "code",
   "execution_count": 5,
   "metadata": {},
   "outputs": [],
   "source": [
    "testpath = '/Users/andrescrucettanieto/Documents/GitHub/advent_of_code/2021/data/10_test.txt'\n",
    "# fullpath = '/Users/andrescrucettanieto/Documents/GitHub/advent_of_code/2021/data/09.txt'\n",
    "\n",
    "def read_input(filepath):\n",
    "    '''\n",
    "    Reads matrix from the filepath.\n",
    "    '''\n",
    "    with open(filepath) as f:\n",
    "        data = f.readlines()\n",
    "    rows = list(map(lambda x: x.strip('\\n'),data))\n",
    "    matrix = []\n",
    "    for row in rows:\n",
    "        split_row = [r for r in row]\n",
    "        matrix.append(split_row)\n",
    "    return matrix"
   ]
  },
  {
   "cell_type": "code",
   "execution_count": 54,
   "metadata": {},
   "outputs": [],
   "source": [
    "lst = read_input(testpath)"
   ]
  },
  {
   "cell_type": "markdown",
   "metadata": {},
   "source": [
    "General approach:\n",
    "- Iterate over each line\n",
    "- Find the first opening bracket, then iterate until the next closing bracket comes.\n",
    "- If you didn't find the closing bracket, add to the syntax error list. \n",
    "- Calculate the number of syntax erros based on the list.\n",
    "\n",
    "Types of brackets:\n",
    "- []\n",
    "- ()\n",
    "- {}\n",
    "- <>\n",
    "\n",
    "Points for each bracket:\n",
    "- ): 3 points.\n",
    "- ]: 57 points. \n",
    "- }: 1197 points.          \n",
    "- \">:\" 25137 points.\n",
    "\n",
    "Challenges\n",
    "- Need to find a way to find the pair matches at the core, and open up from there."
   ]
  },
  {
   "cell_type": "code",
   "execution_count": 78,
   "metadata": {},
   "outputs": [],
   "source": [
    "def Compare(opening, closing):\n",
    "    if opening == '(' and closing == ')':\n",
    "        return True\n",
    "    if opening == '[' and closing == ']':\n",
    "        return True\n",
    "    if opening == '{' and closing == '}':\n",
    "        return True  \n",
    "    if opening == '<' and closing == '>':\n",
    "        return True\n",
    "    return False\n",
    "\n",
    "def BalancedBrackets(lst):\n",
    "    '''\n",
    "    Function to find brackets without a closing bracket.\n",
    "    '''\n",
    "    stack = []\n",
    "    for char in lst:\n",
    "        if char == \"{\" or char == \"[\" or char == \"(\" or char ==\"<\":\n",
    "            print(\"Current stack: \", stack)\n",
    "            stack.append(char)\n",
    "        elif char == \"}\" or char == \"]\" or char == \")\" or char == \">\":\n",
    "            if len(stack) == 0:\n",
    "                return stack\n",
    "            top_element = stack.pop()\n",
    "            if not Compare(top_element, char):\n",
    "                print(\"Opening and Closing not matching: \")\n",
    "                print(\"Opening: \",top_element)\n",
    "                print(\"Closing: \", char)\n",
    "                return stack\n",
    "    if len(stack) == 0:\n",
    "        return stack\n",
    "    return stack"
   ]
  },
  {
   "cell_type": "code",
   "execution_count": 79,
   "metadata": {},
   "outputs": [
    {
     "name": "stdout",
     "output_type": "stream",
     "text": [
      "Current stack:  []\n",
      "Current stack:  ['[']\n",
      "Current stack:  ['[', '(']\n",
      "Current stack:  ['[', '(', '{']\n",
      "Current stack:  ['[', '(', '{', '(']\n",
      "Opening and Closing not matching: \n",
      "Opening:  <\n",
      "Closing:  )\n"
     ]
    },
    {
     "data": {
      "text/plain": [
       "['[', '(', '{', '(']"
      ]
     },
     "execution_count": 79,
     "metadata": {},
     "output_type": "execute_result"
    }
   ],
   "source": [
    "BalancedBrackets(lst[0])"
   ]
  },
  {
   "cell_type": "code",
   "execution_count": 57,
   "metadata": {},
   "outputs": [
    {
     "data": {
      "text/plain": [
       "False"
      ]
     },
     "execution_count": 57,
     "metadata": {},
     "output_type": "execute_result"
    }
   ],
   "source": [
    "pairs = {\"[\":\"]\",\"{\":\"}\",\"(\":\")\",\"<\":\">\"}\n",
    "lst[0][7]==pairs[\"(\"]"
   ]
  },
  {
   "cell_type": "code",
   "execution_count": 44,
   "metadata": {},
   "outputs": [
    {
     "data": {
      "text/plain": [
       "']'"
      ]
     },
     "execution_count": 44,
     "metadata": {},
     "output_type": "execute_result"
    }
   ],
   "source": [
    "pairs = {\"[\":\"]\",\"{\":\"}\",\"(\":\")\",\"<\":\">\"}\n",
    "pairs['[']"
   ]
  },
  {
   "cell_type": "code",
   "execution_count": 42,
   "metadata": {},
   "outputs": [
    {
     "data": {
      "text/plain": [
       "True"
      ]
     },
     "execution_count": 42,
     "metadata": {},
     "output_type": "execute_result"
    }
   ],
   "source": [
    "lst[0][7] == pairs['(']"
   ]
  },
  {
   "cell_type": "code",
   "execution_count": 40,
   "metadata": {},
   "outputs": [
    {
     "data": {
      "text/plain": [
       "')'"
      ]
     },
     "execution_count": 40,
     "metadata": {},
     "output_type": "execute_result"
    }
   ],
   "source": []
  },
  {
   "cell_type": "code",
   "execution_count": null,
   "metadata": {},
   "outputs": [],
   "source": []
  }
 ],
 "metadata": {
  "interpreter": {
   "hash": "e94c633992c6d0be27e4b04a1c9349b29ea3a18f141ab55d8d931a4ccb7d656a"
  },
  "kernelspec": {
   "display_name": "Python 3.8.5 64-bit ('base': conda)",
   "language": "python",
   "name": "python3"
  },
  "language_info": {
   "codemirror_mode": {
    "name": "ipython",
    "version": 3
   },
   "file_extension": ".py",
   "mimetype": "text/x-python",
   "name": "python",
   "nbconvert_exporter": "python",
   "pygments_lexer": "ipython3",
   "version": "3.8.5"
  },
  "orig_nbformat": 4
 },
 "nbformat": 4,
 "nbformat_minor": 2
}
