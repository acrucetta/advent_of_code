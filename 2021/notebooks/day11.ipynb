{
 "cells": [
  {
   "cell_type": "markdown",
   "metadata": {},
   "source": [
    "### Day 11: Dumbo Octopus\n",
    "\n",
    "You enter a large cavern full of rare bioluminescent dumbo octopuses! They seem to not like the Christmas lights on your submarine, so you turn them off for now.\n",
    "\n",
    "There are 100 octopuses arranged neatly in a 10 by 10 grid. Each octopus slowly gains energy over time and flashes brightly for a moment when its energy is full. Although your lights are off, maybe you could navigate through the cave without disturbing the octopuses if you could predict when the flashes of light will happen.\n",
    "\n",
    "Each octopus has an energy level - your submarine can remotely measure the energy level of each octopus (your puzzle input). For example:\n",
    "\n",
    "    5483143223\n",
    "    2745854711\n",
    "    5264556173\n",
    "    6141336146\n",
    "    6357385478\n",
    "    4167524645\n",
    "    2176841721\n",
    "    6882881134\n",
    "    4846848554\n",
    "    5283751526\n",
    "\n",
    "The energy level of each octopus is a value between 0 and 9. Here, the top-left octopus has an energy level of 5, the bottom-right one has an energy level of 6, and so on.\n",
    "\n",
    "You can model the energy levels and flashes of light in steps. During a single step, the following occurs:\n",
    "\n",
    "First, the energy level of each octopus increases by 1.\n",
    "\n",
    "Then, any octopus with an energy level greater than 9 flashes. This increases the energy level of all adjacent octopuses by 1, including octopuses that are diagonally adjacent. If this causes an octopus to have an energy level greater than 9, it also flashes. This process continues as long as new octopuses keep having their energy level increased beyond 9. (An octopus can only flash at most once per step.)\n",
    "\n",
    "Finally, any octopus that flashed during this step has its energy level set to 0, as it used all of its energy to flash.\n",
    "\n",
    "Adjacent flashes can cause an octopus to flash on a step even if it begins that step with very little energy. Consider the middle octopus with 1 energy in this situation:\n",
    "\n",
    "Before any steps:\n",
    "\n",
    "    11111\n",
    "    19991\n",
    "    19191\n",
    "    19991\n",
    "    11111\n",
    "\n",
    "After step 1:\n",
    "\n",
    "    34543\n",
    "    40004\n",
    "    50005\n",
    "    40004\n",
    "    34543\n",
    "\n",
    "After step 2:\n",
    "\n",
    "    45654\n",
    "    51115\n",
    "    61116\n",
    "    51115\n",
    "    45654\n",
    "\n",
    "An octopus is highlighted when it flashed during the given step.\n",
    "\n",
    "After 100 steps, there have been a total of 1656 flashes.\n",
    "\n",
    "Given the starting energy levels of the dumbo octopuses in your cavern, simulate 100 steps. How many total flashes are there after 100 steps?"
   ]
  },
  {
   "cell_type": "markdown",
   "metadata": {},
   "source": [
    "**General Approach**\n",
    "- We have a grid of NxN octopi\n",
    "- Each octopus increases its level every step\n",
    "- When it reaches 9, the next step, it increases the level of adjacent octopi by 1. \n",
    "- Then that 9 goes back to 0.\n",
    "- We will count the number of times any octopus or cell reaches 0 (known as a flash)"
   ]
  },
  {
   "cell_type": "markdown",
   "metadata": {},
   "source": [
    "**Tools**\n",
    "- Need to read the grid\n",
    "- Need to create a stepping function to increase everyone by 1\n",
    "- Need to have some form of function that for any cell that reaches 0 it increases the neighboring cell's count by 1\n",
    "\n",
    "**Grid Structure**\n",
    "- We have a grid with the existing values [X]\n",
    "- We need to walk through the adjacent positions, and increase that value by 1 [X]\n",
    "- Create a function that checks the status of the adjacent values.\n",
    "- Create another grid that checks whether the value has been lit in this turn or not.\n",
    "- Find a way to recursively iterate over the grid until there are no more flashes.\n",
    "- Then if it reaches 9, we change it by a factor."
   ]
  },
  {
   "cell_type": "code",
   "execution_count": 1,
   "metadata": {},
   "outputs": [
    {
     "name": "stdout",
     "output_type": "stream",
     "text": [
      "ln: util.py: File exists\n"
     ]
    }
   ],
   "source": [
    "!ln -s /Users/andrescrucettanieto/Documents/GitHub/advent_of_code/common/util.py util.py"
   ]
  },
  {
   "cell_type": "code",
   "execution_count": 6,
   "metadata": {},
   "outputs": [],
   "source": [
    "import util\n",
    "import os\n",
    "import numpy as np"
   ]
  },
  {
   "cell_type": "code",
   "execution_count": 7,
   "metadata": {},
   "outputs": [],
   "source": [
    "os.chdir('/Users/andrescrucettanieto/Documents/GitHub/advent_of_code/2021')"
   ]
  },
  {
   "cell_type": "code",
   "execution_count": 8,
   "metadata": {},
   "outputs": [],
   "source": [
    "small_grid = util.read_grid('data/11_small.txt')\n",
    "medium_grid = util.read_grid('data/11_large.txt')\n",
    "full_grid = util.read_grid('data/11.txt')"
   ]
  },
  {
   "cell_type": "code",
   "execution_count": 125,
   "metadata": {},
   "outputs": [],
   "source": [
    "def increase_adjacent(grid,position,lit_array):\n",
    "    '''\n",
    "    Increases the adjacent values of the given position by 1.\n",
    "    This happens when the value at the given position is 9.\n",
    "    '''\n",
    "    x,y = position\n",
    "    for dx,dy in grid.DIRECTIONS:\n",
    "        try: \n",
    "            # If the value hasn't been lit before increase it.\n",
    "            if not lit_array[x+dx,y+dy]:\n",
    "                grid[x+dx,y+dy] += 1\n",
    "        except IndexError:\n",
    "            continue"
   ]
  },
  {
   "cell_type": "code",
   "execution_count": 126,
   "metadata": {},
   "outputs": [],
   "source": [
    "# Creating a function to iterate through the grid and increase the value of each position\n",
    "def step(grid):\n",
    "    '''\n",
    "    Performs a single step over the grid.\n",
    "    '''    \n",
    "    # Add 1 to all the values in the array.\n",
    "    grid._grid += 1\n",
    "    \n",
    "    # Create array of values that have been lit\n",
    "    lit_array = (grid._grid < 0)\n",
    "    \n",
    "    while True:\n",
    "        flashed = False\n",
    "        for y in range(grid.max_y):\n",
    "            for x in range(grid.max_x):\n",
    "                val = grid[x,y]\n",
    "                # If the position is more than 9, increase the adjacent values\n",
    "                if val > 9 and not lit_array[x,y]:\n",
    "                    lit_array[x,y] = True\n",
    "                    increase_adjacent(grid,(x,y),lit_array)\n",
    "                    flashed = True\n",
    "        if not flashed:\n",
    "            break\n",
    "                    \n",
    "    # After all of the steps, the positions that have reached more than 9 will be set to 0.\n",
    "    new_grid = np.where(grid._grid > 9, 0, grid._grid)\n",
    "    \n",
    "    # Count the number of positions that have reached 0.\n",
    "    flashes = np.sum(new_grid == 0)\n",
    "    grid = util.Grid(new_grid)\n",
    "    \n",
    "    return grid, flashes"
   ]
  },
  {
   "cell_type": "code",
   "execution_count": 127,
   "metadata": {},
   "outputs": [],
   "source": [
    "def task1(grid,N):\n",
    "    '''\n",
    "    Count the number of flashes after N steps.\n",
    "    '''\n",
    "    total_flashes = 0\n",
    "    for _ in range(N):\n",
    "        grid,flashes = step(grid)\n",
    "        total_flashes += flashes\n",
    "    return total_flashes"
   ]
  },
  {
   "cell_type": "code",
   "execution_count": 137,
   "metadata": {},
   "outputs": [],
   "source": [
    "def task2(grid):\n",
    "    '''\n",
    "    Iterates until all the grid has been lit on a given turn.\n",
    "    '''\n",
    "    steps = 0\n",
    "    while True:\n",
    "        steps += 1 \n",
    "        grid,flashes = step(grid)\n",
    "        rows,columns = grid._grid.shape\n",
    "        required_flashes = rows*columns\n",
    "        if flashes == required_flashes:\n",
    "            return steps"
   ]
  },
  {
   "cell_type": "code",
   "execution_count": 138,
   "metadata": {},
   "outputs": [],
   "source": [
    "# Creating a function to check output of the grid compared with actual results.\n",
    "test_grid_stp2 = util.read_grid('data/11_med_actual.txt')"
   ]
  },
  {
   "cell_type": "code",
   "execution_count": 139,
   "metadata": {},
   "outputs": [],
   "source": [
    "grid_sm = util.Grid(small_grid)\n",
    "grid_med = util.Grid(medium_grid)\n",
    "grid_full = util.Grid(full_grid)"
   ]
  },
  {
   "cell_type": "code",
   "execution_count": 134,
   "metadata": {},
   "outputs": [
    {
     "data": {
      "text/plain": [
       "(10, 10)"
      ]
     },
     "execution_count": 134,
     "metadata": {},
     "output_type": "execute_result"
    }
   ],
   "source": [
    "grid_full._grid.shape"
   ]
  },
  {
   "cell_type": "code",
   "execution_count": 129,
   "metadata": {},
   "outputs": [
    {
     "data": {
      "text/plain": [
       "1773"
      ]
     },
     "execution_count": 129,
     "metadata": {},
     "output_type": "execute_result"
    }
   ],
   "source": [
    "task1(grid_full,100)"
   ]
  },
  {
   "cell_type": "code",
   "execution_count": 140,
   "metadata": {},
   "outputs": [
    {
     "data": {
      "text/plain": [
       "494"
      ]
     },
     "execution_count": 140,
     "metadata": {},
     "output_type": "execute_result"
    }
   ],
   "source": [
    "task2(grid_full)"
   ]
  },
  {
   "cell_type": "code",
   "execution_count": null,
   "metadata": {},
   "outputs": [],
   "source": []
  }
 ],
 "metadata": {
  "interpreter": {
   "hash": "e94c633992c6d0be27e4b04a1c9349b29ea3a18f141ab55d8d931a4ccb7d656a"
  },
  "kernelspec": {
   "display_name": "Python 3.8.5 64-bit ('base': conda)",
   "language": "python",
   "name": "python3"
  },
  "language_info": {
   "codemirror_mode": {
    "name": "ipython",
    "version": 3
   },
   "file_extension": ".py",
   "mimetype": "text/x-python",
   "name": "python",
   "nbconvert_exporter": "python",
   "pygments_lexer": "ipython3",
   "version": "3.8.5"
  },
  "orig_nbformat": 4
 },
 "nbformat": 4,
 "nbformat_minor": 2
}
