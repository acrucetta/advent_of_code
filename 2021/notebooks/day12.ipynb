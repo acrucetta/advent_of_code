{
 "cells": [
  {
   "cell_type": "markdown",
   "metadata": {},
   "source": [
    "--- Day 12: Passage Pathing ---\n",
    "\n",
    "With your submarine's subterranean subsystems subsisting suboptimally, the only way you're getting out of this cave anytime soon is by finding a path yourself. Not just a path - the only way to know if you've found the best path is to find all of them.\n",
    "\n",
    "Fortunately, the sensors are still mostly working, and so you build a rough map of the remaining caves (your puzzle input). For example:\n",
    "\n",
    "    start-A\n",
    "    start-b\n",
    "    A-c\n",
    "    A-b\n",
    "    b-d\n",
    "    A-end\n",
    "    b-end\n",
    "\n",
    "This is a list of how all of the caves are connected. You start in the cave named start, and your destination is the cave named end. An entry like b-d means that cave b is connected to cave d - that is, you can move between them.\n",
    "\n",
    "So, the above cave system looks roughly like this:\n",
    "\n",
    "        start\n",
    "        /   \\\n",
    "    c--A-----b--d\n",
    "        \\   /\n",
    "        end\n",
    "\n",
    "Your goal is to find the number of distinct paths that start at start, end at end, and don't visit small caves more than once. There are two types of caves: big caves (written in uppercase, like A) and small caves (written in lowercase, like b). It would be a waste of time to visit any small cave more than once, but big caves are large enough that it might be worth visiting them multiple times. So, all paths you find should visit small caves at most once, and can visit big caves any number of times.\n",
    "\n",
    "Given these rules, there are 10 paths through this example cave system:\n",
    "\n",
    "    start,A,b,A,c,A,end\n",
    "    start,A,b,A,end\n",
    "    start,A,b,end\n",
    "    start,A,c,A,b,A,end\n",
    "    start,A,c,A,b,end\n",
    "    start,A,c,A,end\n",
    "    start,A,end\n",
    "    start,b,A,c,A,end\n",
    "    start,b,A,end\n",
    "    start,b,end"
   ]
  },
  {
   "cell_type": "code",
   "execution_count": 1,
   "metadata": {},
   "outputs": [
    {
     "data": {
      "text/plain": [
       "'\\nGeneral Instructions:\\n- Create a path going from start to end.\\n- The path can only visit lowercase letters once.\\n- It can visit uppercase letters more than once.\\n- It must end at \"end\".\\n\\nCode:\\n- Read the input and create a graph.\\n- Have some form of graph travelsal algorithm.\\n- Add constraints to the traversal algorithm so that it only visits lowercase letters once.\\n'"
      ]
     },
     "execution_count": 1,
     "metadata": {},
     "output_type": "execute_result"
    }
   ],
   "source": [
    "'''\n",
    "General Instructions:\n",
    "- Create a path going from start to end.\n",
    "- The path can only visit lowercase letters once.\n",
    "- It can visit uppercase letters more than once.\n",
    "- It must end at \"end\".\n",
    "\n",
    "Code:\n",
    "- Read the input and create a graph.\n",
    "- Have some form of graph travelsal algorithm.\n",
    "- Add constraints to the traversal algorithm so that it only visits lowercase letters once.\n",
    "'''"
   ]
  },
  {
   "cell_type": "code",
   "execution_count": 1,
   "metadata": {},
   "outputs": [],
   "source": [
    "import util\n",
    "import os\n",
    "import numpy as np\n",
    "import re"
   ]
  },
  {
   "cell_type": "code",
   "execution_count": 2,
   "metadata": {},
   "outputs": [
    {
     "data": {
      "text/plain": [
       "'/Users/andrescrucettanieto/Documents/GitHub/advent_of_code/2021/notebooks'"
      ]
     },
     "execution_count": 2,
     "metadata": {},
     "output_type": "execute_result"
    }
   ],
   "source": [
    "os.getcwd()"
   ]
  },
  {
   "cell_type": "code",
   "execution_count": 3,
   "metadata": {},
   "outputs": [],
   "source": [
    "os.chdir('/Users/andrescrucettanieto/Documents/GitHub/advent_of_code/2021')"
   ]
  },
  {
   "cell_type": "code",
   "execution_count": 4,
   "metadata": {},
   "outputs": [],
   "source": [
    "small_test = util.read_strs(\"data/12_test.txt\")\n",
    "small_test = list(map(lambda x: x.split('-'), small_test))"
   ]
  },
  {
   "cell_type": "code",
   "execution_count": 220,
   "metadata": {},
   "outputs": [],
   "source": [
    "full = util.read_strs(\"data/12.txt\")\n",
    "full = list(map(lambda x: x.split('-'), full))"
   ]
  },
  {
   "cell_type": "code",
   "execution_count": 5,
   "metadata": {},
   "outputs": [
    {
     "data": {
      "text/plain": [
       "True"
      ]
     },
     "execution_count": 5,
     "metadata": {},
     "output_type": "execute_result"
    }
   ],
   "source": [
    "\"A\".isupper()"
   ]
  },
  {
   "cell_type": "code",
   "execution_count": 6,
   "metadata": {},
   "outputs": [],
   "source": [
    "def generate_edges(graph):\n",
    "    edges = []\n",
    "    \n",
    "    # for each node in the graph\n",
    "    for node in graph:\n",
    "        # for each letter in the node\n",
    "        for neighbour in graph[node]:\n",
    "            # if edge doesn't exist then append\n",
    "            edges.append((node, neighbour))\n",
    "    return edges"
   ]
  },
  {
   "cell_type": "code",
   "execution_count": 7,
   "metadata": {},
   "outputs": [],
   "source": [
    "def generate_graph(data):\n",
    "    graph = {}\n",
    "    for node in data:\n",
    "        graph[node[0]] = graph.get(node[0], []) + [node[1]]\n",
    "        graph[node[1]] = graph.get(node[1], []) + [node[0]]\n",
    "    return graph"
   ]
  },
  {
   "cell_type": "code",
   "execution_count": 8,
   "metadata": {},
   "outputs": [],
   "source": [
    "def find_path(graph,start,end,path=None):\n",
    "    '''\n",
    "    Traverses over graph to find path between start\n",
    "    and end.\n",
    "    '''\n",
    "    if path == None:\n",
    "        path = []\n",
    "    path = path + [start]\n",
    "    if start == end:\n",
    "        return path\n",
    "    for node in graph[start]:\n",
    "        if node not in path:\n",
    "            newpath = find_path(graph,node,end,path)\n",
    "            if newpath:\n",
    "                return newpath"
   ]
  },
  {
   "cell_type": "code",
   "execution_count": 232,
   "metadata": {},
   "outputs": [],
   "source": [
    "def dfs(graph,start,seen,part_2=False):\n",
    "    '''\n",
    "    Finds all paths between start and end.\n",
    "    '''      \n",
    "    if start == \"end\":\n",
    "        return 1\n",
    "    \n",
    "    s = 0\n",
    "    \n",
    "    for end in graph[start]:\n",
    "        if end not in seen:\n",
    "            tmp = {end} if end.islower() else set()\n",
    "            s += dfs(graph,end,seen|tmp,part_2)\n",
    "            \n",
    "        elif part_2 and end != \"start\":\n",
    "            s += dfs(graph,end,seen,False)\n",
    "            \n",
    "    return s"
   ]
  },
  {
   "cell_type": "code",
   "execution_count": 233,
   "metadata": {},
   "outputs": [
    {
     "data": {
      "text/plain": [
       "{'ex': ['NL', 'um', 'lx', 'wv', 'fo', 'VF'],\n",
       " 'NL': ['ex', 'start', 'sb', 'fo', 'tg'],\n",
       " 'um': ['ex', 'wv', 'end'],\n",
       " 'ql': ['wv', 'VF', 'fo', 'sb'],\n",
       " 'wv': ['ql', 'ZQ', 'um', 'ex', 'fo', 'end'],\n",
       " 'VF': ['fo', 'ql', 'start', 'sb', 'ex'],\n",
       " 'fo': ['VF', 'ex', 'ql', 'NL', 'wv'],\n",
       " 'start': ['VF', 'NL', 'sb'],\n",
       " 'end': ['tg', 'um', 'wv'],\n",
       " 'tg': ['end', 'NL'],\n",
       " 'ZQ': ['wv'],\n",
       " 'lx': ['ex'],\n",
       " 'sb': ['start', 'NL', 'VF', 'ql']}"
      ]
     },
     "execution_count": 233,
     "metadata": {},
     "output_type": "execute_result"
    }
   ],
   "source": [
    "full_graph = generate_graph(full)\n",
    "full_graph"
   ]
  },
  {
   "cell_type": "code",
   "execution_count": 234,
   "metadata": {},
   "outputs": [
    {
     "data": {
      "text/plain": [
       "3485"
      ]
     },
     "execution_count": 234,
     "metadata": {},
     "output_type": "execute_result"
    }
   ],
   "source": [
    "dfs(full_graph,\"start\",{\"start\"})"
   ]
  },
  {
   "cell_type": "code",
   "execution_count": 235,
   "metadata": {},
   "outputs": [
    {
     "data": {
      "text/plain": [
       "85062"
      ]
     },
     "execution_count": 235,
     "metadata": {},
     "output_type": "execute_result"
    }
   ],
   "source": [
    "dfs(full_graph,\"start\",{\"start\"},True)"
   ]
  },
  {
   "cell_type": "code",
   "execution_count": null,
   "metadata": {},
   "outputs": [],
   "source": []
  }
 ],
 "metadata": {
  "interpreter": {
   "hash": "ef65d36c5832b5d2b2d2554884255934781dba156dd958bf166a787c63cbd994"
  },
  "kernelspec": {
   "display_name": "Python 3.8.5 64-bit ('aocenv': venv)",
   "language": "python",
   "name": "python3"
  },
  "language_info": {
   "codemirror_mode": {
    "name": "ipython",
    "version": 3
   },
   "file_extension": ".py",
   "mimetype": "text/x-python",
   "name": "python",
   "nbconvert_exporter": "python",
   "pygments_lexer": "ipython3",
   "version": "3.8.5"
  },
  "orig_nbformat": 4
 },
 "nbformat": 4,
 "nbformat_minor": 2
}
