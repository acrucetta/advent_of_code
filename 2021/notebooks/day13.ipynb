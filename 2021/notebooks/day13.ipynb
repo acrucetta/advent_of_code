{
 "cells": [
  {
   "cell_type": "markdown",
   "metadata": {},
   "source": [
    "--- Day 13: Transparent Origami ---\n",
    "\n",
    "You reach another volcanically active part of the cave. It would be nice if you could do some kind of thermal imaging so you could tell ahead of time which caves are too hot to safely enter.\n",
    "\n",
    "Fortunately, the submarine seems to be equipped with a thermal camera! When you activate it, you are greeted with:\n",
    "\n",
    "Congratulations on your purchase! To activate this infrared thermal imaging\n",
    "camera system, please enter the code found on page 1 of the manual.\n",
    "\n",
    "Apparently, the Elves have never used this feature. To your surprise, you manage to find the manual; as you go to open it, page 1 falls out. It's a large sheet of transparent paper! The transparent paper is marked with random dots and includes instructions on how to fold it up (your puzzle input). For example:\n",
    "\n",
    "    6,10\n",
    "    0,14\n",
    "    9,10\n",
    "    0,3\n",
    "    10,4\n",
    "    4,11\n",
    "    6,0\n",
    "    6,12\n",
    "    4,1\n",
    "    0,13\n",
    "    10,12\n",
    "    3,4\n",
    "    3,0\n",
    "    8,4\n",
    "    1,10\n",
    "    2,14\n",
    "    8,10\n",
    "    9,0\n",
    "\n",
    "    fold along y=7\n",
    "    fold along x=5"
   ]
  },
  {
   "cell_type": "code",
   "execution_count": 12,
   "metadata": {},
   "outputs": [
    {
     "data": {
      "text/plain": [
       "'\\nGeneral instructions:\\n- Create a grid x by y with a starting point (0,0) and an ending point (x,y)\\n- The grid is a 2D array of dots and #s\\n- We need to find a way fold the grid into halves until we finish the folds\\n\\nFunctions:\\n- read_grid: Reads the input for the grid from the text file\\n- create_grid: creates a grid of dots and #s\\n- fold_grid: folds the grid into halves until we finish the folds\\n'"
      ]
     },
     "execution_count": 12,
     "metadata": {},
     "output_type": "execute_result"
    }
   ],
   "source": [
    "'''\n",
    "General instructions:\n",
    "- Create a grid x by y with a starting point (0,0) and an ending point (x,y)\n",
    "- The grid is a 2D array of dots and #s\n",
    "- We need to find a way fold the grid into halves until we finish the folds\n",
    "\n",
    "Functions:\n",
    "- read_grid: Reads the input for the grid from the text file\n",
    "- create_grid: creates a grid of dots and #s\n",
    "- fold_grid: folds the grid into halves until we finish the folds\n",
    "'''"
   ]
  },
  {
   "cell_type": "code",
   "execution_count": 13,
   "metadata": {},
   "outputs": [],
   "source": [
    "import util\n",
    "import os\n",
    "import numpy as np\n",
    "import re\n",
    "\n",
    "os.chdir('/Users/andrescrucettanieto/Documents/GitHub/advent_of_code/2021')"
   ]
  },
  {
   "cell_type": "code",
   "execution_count": 14,
   "metadata": {},
   "outputs": [],
   "source": [
    "def read_input(filename):\n",
    "    '''\n",
    "    Reads the input for the grid from the text file\n",
    "    '''\n",
    "    input_lst = util.read_strs(filename)\n",
    "    directions_start = input_lst.index(\"fold\")\n",
    "    \n",
    "    # Split the input and the directions\n",
    "    input = input_lst[:directions_start]\n",
    "    directions = input_lst[directions_start:]\n",
    "    \n",
    "    return input, directions"
   ]
  },
  {
   "cell_type": "code",
   "execution_count": 15,
   "metadata": {},
   "outputs": [],
   "source": [
    "def clean_input(input):\n",
    "    '''\n",
    "    Converts input into pair of two integers\n",
    "    '''\n",
    "    clean_input = []\n",
    "    for pair in input:\n",
    "        x,y = pair.split(',')\n",
    "        clean_input.append((int(x), int(y)))\n",
    "    return clean_input"
   ]
  },
  {
   "cell_type": "code",
   "execution_count": 16,
   "metadata": {},
   "outputs": [],
   "source": [
    "def clean_directions(directions):\n",
    "    '''\n",
    "    Converts directions into a list of tuples\n",
    "    '''\n",
    "    clean_directions = []\n",
    "    directions = [e for e in directions if e not in ('fold', \"along\")]\n",
    "    for direction in directions:\n",
    "        axis,units = direction.split(\"=\")\n",
    "        clean_directions.append((axis, int(units)))\n",
    "    return clean_directions"
   ]
  },
  {
   "cell_type": "code",
   "execution_count": 17,
   "metadata": {},
   "outputs": [],
   "source": [
    "def get_boundaries(input):\n",
    "    '''\n",
    "    Gets the max x and y from the input\n",
    "    '''\n",
    "    max_x = max([x for (x, _) in input])\n",
    "    max_y = max([y for (_, y) in input])\n",
    "    return max_x, max_y"
   ]
  },
  {
   "cell_type": "code",
   "execution_count": 18,
   "metadata": {},
   "outputs": [],
   "source": [
    "def create_grid(input):\n",
    "    '''\n",
    "    Creates a grid of dots and #s\n",
    "    '''\n",
    "    max_x, max_y = get_boundaries(input)\n",
    "    grid = np.zeros((max_y+1, max_x+1), dtype=np.int8)\n",
    "    for x,y in input:\n",
    "        grid[y][x] = 1\n",
    "    return grid"
   ]
  },
  {
   "cell_type": "code",
   "execution_count": 26,
   "metadata": {},
   "outputs": [],
   "source": [
    "def fold_paper(grid, directions, fold_count, fold_all=False):\n",
    "    '''\n",
    "    Folds the grid into halves until we finish the folds\n",
    "    '''\n",
    "    if fold_all:\n",
    "        fold_count = len(directions)\n",
    "    for i in range(fold_count):\n",
    "        axis, units = directions[i]\n",
    "        if axis == 'y':\n",
    "            up = grid[:units]\n",
    "            down = grid[units+1:]\n",
    "            arr = up + np.flipud(down)\n",
    "        \n",
    "        elif axis == 'x':\n",
    "            left = grid[:,:units]\n",
    "            right = grid[:,units+1:]\n",
    "            # Dealing with uneven folds\n",
    "            if left.shape != right.shape:\n",
    "                diff = abs(left.shape[1] - right.shape[1])\n",
    "                buffer = np.zeros((right.shape[0], diff), dtype=np.int8)\n",
    "                right = np.hstack((right, buffer))\n",
    "                \n",
    "            arr = left + np.fliplr(right)\n",
    "        grid = arr\n",
    "    return arr"
   ]
  },
  {
   "cell_type": "code",
   "execution_count": 27,
   "metadata": {},
   "outputs": [],
   "source": [
    "def task1(input,directions, fold_count=0, fold_all=False):\n",
    "    '''\n",
    "    Finding the number of 1s and above 1s in the grid.\n",
    "    '''\n",
    "    # Cleaning the input and directions\n",
    "    clean_inp = clean_input(input)\n",
    "    clean_dir = clean_directions(directions)\n",
    "    \n",
    "    # Creating the grid\n",
    "    grid = create_grid(clean_inp)\n",
    "    \n",
    "    # Folding the grid\n",
    "    grid = fold_paper(grid, clean_dir,fold_count, fold_all)\n",
    "    \n",
    "    # Counting the number of 1\n",
    "    ones = np.count_nonzero(grid == 1)\n",
    "    above_ones = np.count_nonzero(grid > 1)\n",
    "    total = ones + above_ones\n",
    "    return grid,total"
   ]
  },
  {
   "cell_type": "code",
   "execution_count": 44,
   "metadata": {},
   "outputs": [],
   "source": [
    "def task2(input,directions):\n",
    "    '''\n",
    "    Finding the shape of all the folds.\n",
    "    '''\n",
    "    grid, _ = task1(input,directions,0, fold_all=True)\n",
    "    folded_grid = np.where(grid > 1, \"█\", \"_\")\n",
    "    return folded_grid\n",
    "    "
   ]
  },
  {
   "cell_type": "code",
   "execution_count": 45,
   "metadata": {},
   "outputs": [],
   "source": [
    "input, directions = read_input('data/13_test.txt')"
   ]
  },
  {
   "cell_type": "code",
   "execution_count": 46,
   "metadata": {},
   "outputs": [],
   "source": [
    "input_full, directions_full = read_input('data/13.txt')"
   ]
  },
  {
   "cell_type": "code",
   "execution_count": 47,
   "metadata": {},
   "outputs": [
    {
     "data": {
      "text/plain": [
       "(array([[1, 0, 1, 1, 0, 0, 1, 0, 0, 1, 0],\n",
       "        [1, 0, 0, 0, 1, 0, 0, 0, 0, 0, 0],\n",
       "        [0, 0, 0, 0, 0, 0, 1, 0, 0, 0, 1],\n",
       "        [1, 0, 0, 0, 1, 0, 0, 0, 0, 0, 0],\n",
       "        [0, 1, 0, 1, 0, 0, 1, 0, 2, 1, 1],\n",
       "        [0, 0, 0, 0, 0, 0, 0, 0, 0, 0, 0],\n",
       "        [0, 0, 0, 0, 0, 0, 0, 0, 0, 0, 0]], dtype=int8),\n",
       " 17)"
      ]
     },
     "execution_count": 47,
     "metadata": {},
     "output_type": "execute_result"
    }
   ],
   "source": [
    "task1(input, directions, 1,fold_all=False)"
   ]
  },
  {
   "cell_type": "code",
   "execution_count": 48,
   "metadata": {},
   "outputs": [],
   "source": [
    "grid,ones = task1(input_full, directions_full, 1,fold_all=True)"
   ]
  },
  {
   "cell_type": "code",
   "execution_count": 49,
   "metadata": {},
   "outputs": [],
   "source": [
    "task2_arr = task2(input_full, directions_full)"
   ]
  },
  {
   "cell_type": "code",
   "execution_count": 53,
   "metadata": {},
   "outputs": [],
   "source": [
    "import sys\n",
    "import numpy\n",
    "numpy.set_printoptions(threshold=sys.maxsize)"
   ]
  },
  {
   "cell_type": "code",
   "execution_count": 60,
   "metadata": {},
   "outputs": [
    {
     "name": "stdout",
     "output_type": "stream",
     "text": [
      "[['_', '_', '█', '█', '_', '█', '_', '█', '_', '_', '█', '█', '█', '█', '_', '_', '█', '█', '_', '_', '█', '_', '_', '_', '_', '_', '█', '█', '_', '_', '█', '_', '_', '█', '_', '█', '_', '█', '_', '_'], ['_', '_', '_', '█', '_', '█', '_', '_', '█', '_', '_', '_', '_', '█', '_', '█', '_', '_', '█', '_', '█', '_', '_', '█', '_', '█', '_', '_', '█', '_', '█', '_', '_', '█', '_', '█', '_', '_', '█', '_'], ['_', '_', '_', '█', '_', '█', '_', '_', '█', '_', '_', '_', '█', '_', '_', '█', '_', '_', '_', '_', '█', '_', '_', '█', '_', '█', '_', '_', '█', '_', '█', '_', '_', '█', '_', '█', '_', '_', '█', '_'], ['_', '_', '_', '█', '_', '█', '█', '█', '_', '_', '_', '█', '_', '_', '_', '█', '_', '_', '_', '_', '█', '_', '_', '█', '_', '█', '█', '█', '█', '_', '█', '_', '_', '█', '_', '█', '█', '█', '_', '_'], ['█', '_', '_', '█', '_', '█', '_', '_', '_', '_', '_', '_', '_', '_', '_', '█', '_', '_', '█', '_', '█', '_', '_', '_', '_', '█', '_', '_', '█', '_', '█', '_', '_', '_', '_', '█', '_', '█', '_', '_'], ['_', '█', '█', '_', '_', '█', '_', '_', '_', '_', '█', '█', '█', '█', '_', '_', '█', '█', '_', '_', '_', '_', '█', '_', '_', '█', '_', '_', '█', '_', '_', '█', '█', '_', '_', '█', '_', '_', '█', '_']]\n"
     ]
    }
   ],
   "source": [
    "print(task2_arr.tolist())"
   ]
  },
  {
   "cell_type": "code",
   "execution_count": null,
   "metadata": {},
   "outputs": [],
   "source": []
  }
 ],
 "metadata": {
  "interpreter": {
   "hash": "e94c633992c6d0be27e4b04a1c9349b29ea3a18f141ab55d8d931a4ccb7d656a"
  },
  "kernelspec": {
   "display_name": "Python 3.8.5 64-bit ('base': conda)",
   "language": "python",
   "name": "python3"
  },
  "language_info": {
   "codemirror_mode": {
    "name": "ipython",
    "version": 3
   },
   "file_extension": ".py",
   "mimetype": "text/x-python",
   "name": "python",
   "nbconvert_exporter": "python",
   "pygments_lexer": "ipython3",
   "version": "3.8.5"
  },
  "orig_nbformat": 4
 },
 "nbformat": 4,
 "nbformat_minor": 2
}
