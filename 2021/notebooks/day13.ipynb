{
 "cells": [
  {
   "cell_type": "markdown",
   "metadata": {},
   "source": [
    "--- Day 13: Transparent Origami ---\n",
    "\n",
    "You reach another volcanically active part of the cave. It would be nice if you could do some kind of thermal imaging so you could tell ahead of time which caves are too hot to safely enter.\n",
    "\n",
    "Fortunately, the submarine seems to be equipped with a thermal camera! When you activate it, you are greeted with:\n",
    "\n",
    "Congratulations on your purchase! To activate this infrared thermal imaging\n",
    "camera system, please enter the code found on page 1 of the manual.\n",
    "\n",
    "Apparently, the Elves have never used this feature. To your surprise, you manage to find the manual; as you go to open it, page 1 falls out. It's a large sheet of transparent paper! The transparent paper is marked with random dots and includes instructions on how to fold it up (your puzzle input). For example:\n",
    "\n",
    "    6,10\n",
    "    0,14\n",
    "    9,10\n",
    "    0,3\n",
    "    10,4\n",
    "    4,11\n",
    "    6,0\n",
    "    6,12\n",
    "    4,1\n",
    "    0,13\n",
    "    10,12\n",
    "    3,4\n",
    "    3,0\n",
    "    8,4\n",
    "    1,10\n",
    "    2,14\n",
    "    8,10\n",
    "    9,0\n",
    "\n",
    "    fold along y=7\n",
    "    fold along x=5"
   ]
  },
  {
   "cell_type": "code",
   "execution_count": 2,
   "metadata": {},
   "outputs": [
    {
     "data": {
      "text/plain": [
       "'\\nGeneral instructions:\\n- Create a grid x by y with a starting point (0,0) and an ending point (x,y)\\n- The grid is a 2D array of dots and #s\\n- We need to find a way fold the grid into halves until we finish the folds\\n\\nFunctions:\\n- read_grid: Reads the input for the grid from the text file\\n- create_grid: creates a grid of dots and #s\\n- fold_grid: folds the grid into halves until we finish the folds\\n'"
      ]
     },
     "execution_count": 2,
     "metadata": {},
     "output_type": "execute_result"
    }
   ],
   "source": [
    "'''\n",
    "General instructions:\n",
    "- Create a grid x by y with a starting point (0,0) and an ending point (x,y)\n",
    "- The grid is a 2D array of dots and #s\n",
    "- We need to find a way fold the grid into halves until we finish the folds\n",
    "\n",
    "Functions:\n",
    "- read_grid: Reads the input for the grid from the text file\n",
    "- create_grid: creates a grid of dots and #s\n",
    "- fold_grid: folds the grid into halves until we finish the folds\n",
    "'''"
   ]
  },
  {
   "cell_type": "code",
   "execution_count": 77,
   "metadata": {},
   "outputs": [],
   "source": [
    "import util\n",
    "import os\n",
    "import numpy as np\n",
    "import re\n",
    "\n",
    "os.chdir('/Users/andrescrucettanieto/Documents/GitHub/advent_of_code/2021')"
   ]
  },
  {
   "cell_type": "code",
   "execution_count": 78,
   "metadata": {},
   "outputs": [],
   "source": [
    "def read_input(filename):\n",
    "    '''\n",
    "    Reads the input for the grid from the text file\n",
    "    '''\n",
    "    input_lst = util.read_strs(filename)\n",
    "    directions_start = input_lst.index(\"fold\")\n",
    "    \n",
    "    # Split the input and the directions\n",
    "    input = input_lst[:directions_start]\n",
    "    directions = input_lst[directions_start:]\n",
    "    \n",
    "    return input, directions"
   ]
  },
  {
   "cell_type": "code",
   "execution_count": 79,
   "metadata": {},
   "outputs": [],
   "source": [
    "def clean_input(input):\n",
    "    '''\n",
    "    Converts input into pair of two integers\n",
    "    '''\n",
    "    clean_input = []\n",
    "    for pair in input:\n",
    "        x,y = pair.split(',')\n",
    "        clean_input.append((int(x), int(y)))\n",
    "    return clean_input"
   ]
  },
  {
   "cell_type": "code",
   "execution_count": 83,
   "metadata": {},
   "outputs": [],
   "source": [
    "def clean_directions(directions):\n",
    "    '''\n",
    "    Converts directions into a list of tuples\n",
    "    '''\n",
    "    clean_directions = []\n",
    "    directions = [e for e in directions if e not in ('fold', \"along\")]\n",
    "    for direction in directions:\n",
    "        axis,units = direction.split(\"=\")\n",
    "        clean_directions.append((axis, int(units)))\n",
    "    return clean_directions"
   ]
  },
  {
   "cell_type": "code",
   "execution_count": 88,
   "metadata": {},
   "outputs": [],
   "source": [
    "def get_boundaries(input):\n",
    "    '''\n",
    "    Gets the max x and y from the input\n",
    "    '''\n",
    "    x = 0\n",
    "    y = 0\n",
    "    for pair in input:\n",
    "        iter_x = pair[0]\n",
    "        iter_y = pair[1]\n",
    "        x = max(x, iter_x)\n",
    "        y = max(y, iter_y)\n",
    "    return x, y"
   ]
  },
  {
   "cell_type": "code",
   "execution_count": 91,
   "metadata": {},
   "outputs": [],
   "source": [
    "def create_grid(input):\n",
    "    '''\n",
    "    Creates a grid of dots and #s\n",
    "    '''\n",
    "    x,y = get_boundaries(input)\n",
    "    grid = np.zeros((x+1, y+1))\n",
    "    grid = np.where(grid == 0, '.', grid)\n",
    "    for pair in input:\n",
    "        grid[pair[0]][pair[1]] = '#'\n",
    "    return grid"
   ]
  },
  {
   "cell_type": "code",
   "execution_count": 84,
   "metadata": {},
   "outputs": [],
   "source": [
    "input, directions = read_input('data/13_test.txt')"
   ]
  },
  {
   "cell_type": "code",
   "execution_count": 89,
   "metadata": {},
   "outputs": [],
   "source": [
    "clean_input = clean_input(input)\n",
    "clean_directions = clean_directions(directions)"
   ]
  },
  {
   "cell_type": "code",
   "execution_count": 93,
   "metadata": {},
   "outputs": [],
   "source": [
    "arr = create_grid(clean_input)"
   ]
  },
  {
   "cell_type": "code",
   "execution_count": 95,
   "metadata": {},
   "outputs": [
    {
     "name": "stdout",
     "output_type": "stream",
     "text": [
      "[['.' '.' '.' '#' '.' '.' '.' '.' '.' '.' '.' '.' '.' '#' '#']\n",
      " ['.' '.' '.' '.' '.' '.' '.' '.' '.' '.' '#' '.' '.' '.' '.']\n",
      " ['.' '.' '.' '.' '.' '.' '.' '.' '.' '.' '.' '.' '.' '.' '#']\n",
      " ['#' '.' '.' '.' '#' '.' '.' '.' '.' '.' '.' '.' '.' '.' '.']\n",
      " ['.' '#' '.' '.' '.' '.' '.' '.' '.' '.' '.' '#' '.' '.' '.']\n",
      " ['.' '.' '.' '.' '.' '.' '.' '.' '.' '.' '.' '.' '.' '.' '.']\n",
      " ['#' '.' '.' '.' '.' '.' '.' '.' '.' '.' '#' '.' '#' '.' '.']\n",
      " ['.' '.' '.' '.' '.' '.' '.' '.' '.' '.' '.' '.' '.' '.' '.']\n",
      " ['.' '.' '.' '.' '#' '.' '.' '.' '.' '.' '#' '.' '.' '.' '.']\n",
      " ['#' '.' '.' '.' '.' '.' '.' '.' '.' '.' '#' '.' '.' '.' '.']\n",
      " ['.' '.' '.' '.' '#' '.' '.' '.' '.' '.' '.' '.' '#' '.' '.']]\n"
     ]
    }
   ],
   "source": [
    "print(arr)"
   ]
  },
  {
   "cell_type": "code",
   "execution_count": null,
   "metadata": {},
   "outputs": [],
   "source": []
  }
 ],
 "metadata": {
  "interpreter": {
   "hash": "e94c633992c6d0be27e4b04a1c9349b29ea3a18f141ab55d8d931a4ccb7d656a"
  },
  "kernelspec": {
   "display_name": "Python 3.8.5 64-bit ('base': conda)",
   "language": "python",
   "name": "python3"
  },
  "language_info": {
   "codemirror_mode": {
    "name": "ipython",
    "version": 3
   },
   "file_extension": ".py",
   "mimetype": "text/x-python",
   "name": "python",
   "nbconvert_exporter": "python",
   "pygments_lexer": "ipython3",
   "version": "3.8.5"
  },
  "orig_nbformat": 4
 },
 "nbformat": 4,
 "nbformat_minor": 2
}
