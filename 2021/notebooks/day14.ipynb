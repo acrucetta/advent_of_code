{
 "cells": [
  {
   "cell_type": "markdown",
   "metadata": {},
   "source": [
    "--- Day 14: Extended Polymerization ---\n",
    "\n",
    "The incredible pressures at this depth are starting to put a strain on your submarine. The submarine has polymerization equipment that would produce suitable materials to reinforce the submarine, and the nearby volcanically-active caves should even have the necessary input elements in sufficient quantities.\n",
    "\n",
    "The submarine manual contains instructions for finding the optimal polymer formula; specifically, it offers a polymer template and a list of pair insertion rules (your puzzle input). You just need to work out what polymer would result after repeating the pair insertion process a few times.\n",
    "\n",
    "Note that these pairs overlap: the second element of one pair is the first element of the next pair. Also, because all pairs are considered simultaneously, inserted elements are not considered to be part of a pair until the next step.\n",
    "\n",
    "After the first step of this process, the polymer becomes NCNBCHB.\n",
    "\n",
    "Here are the results of a few steps using the above rules:\n",
    "\n",
    "    Template:     NNCB\n",
    "    After step 1: NCNBCHB\n",
    "    After step 2: NBCCNBBBCBHCB\n",
    "    After step 3: NBBBCNCCNBBNBNBBCHBHHBCHB\n",
    "    After step 4: NBBNBNBBCCNBCNCCNBBNBBNBBBNBBNBBCBHCBHHNHCBBCBHCB\n",
    "    \n",
    "This polymer grows quickly. After step 5, it has length 97; After step 10, it has length 3073. After step 10, B occurs 1749 times, C occurs 298 times, H occurs 161 times, and N occurs 865 times; taking the quantity of the most common element (B, 1749) and subtracting the quantity of the least common element (H, 161) produces 1749 - 161 = 1588.\n",
    "\n",
    "Apply 10 steps of pair insertion to the polymer template and find the most and least common elements in the result. What do you get if you take the quantity of the most common element and subtract the quantity of the least common element?"
   ]
  },
  {
   "cell_type": "code",
   "execution_count": 26,
   "metadata": {},
   "outputs": [
    {
     "data": {
      "text/plain": [
       "'\\nGeneral instructions:\\n- Split the input into the initial state and the rules\\n- Get initial state and apply rules to it as one step\\n- Repeat untill all the rules are applied\\n'"
      ]
     },
     "execution_count": 26,
     "metadata": {},
     "output_type": "execute_result"
    }
   ],
   "source": [
    "'''\n",
    "General instructions:\n",
    "- Split the input into the initial state and the rules\n",
    "- Get initial state and apply rules to it as one step\n",
    "- Repeat untill all the rules are applied\n",
    "'''"
   ]
  },
  {
   "cell_type": "code",
   "execution_count": 27,
   "metadata": {},
   "outputs": [],
   "source": [
    "import util\n",
    "import os\n",
    "import numpy as np\n",
    "import re\n",
    "\n",
    "os.chdir('/Users/andrescrucettanieto/Documents/GitHub/advent_of_code/2021')"
   ]
  },
  {
   "cell_type": "code",
   "execution_count": 28,
   "metadata": {},
   "outputs": [],
   "source": [
    "input_sm = util.read_strs('data/14_test.txt',sep=\"\\n\")\n",
    "input_lg = util.read_strs('data/14.txt',sep=\"\\n\")"
   ]
  },
  {
   "cell_type": "code",
   "execution_count": 29,
   "metadata": {},
   "outputs": [],
   "source": [
    "def clean_input(input_strs):\n",
    "    '''\n",
    "    Cleans the input and returns a list of lists\n",
    "    '''\n",
    "    init = input_strs[0]\n",
    "    rules = input_strs[1:]\n",
    "    rules = list(map(lambda x: x.split(' -> '),rules))\n",
    "    rules.remove(rules[0])\n",
    "    return init,rules"
   ]
  },
  {
   "cell_type": "code",
   "execution_count": 30,
   "metadata": {},
   "outputs": [],
   "source": [
    "def get_letter_counts(init):\n",
    "    '''\n",
    "    Counts the number of occurrences of each letter in the initial state\n",
    "    '''\n",
    "    counts = {}\n",
    "    for l in init:\n",
    "        if l in counts:\n",
    "            counts[l] += 1\n",
    "        else:\n",
    "            counts[l] = 1\n",
    "    return counts"
   ]
  },
  {
   "cell_type": "code",
   "execution_count": 31,
   "metadata": {},
   "outputs": [],
   "source": [
    "def step(init,rules):\n",
    "    '''\n",
    "    Given a string, it grabs every two characters in it \n",
    "    within a for loop and applies the rules to it.\n",
    "    '''\n",
    "    curr = init\n",
    "    new = ''\n",
    "    # print(\"Initial state: {}\".format(curr))\n",
    "    for i in range(len(init)):\n",
    "        for rule in rules:\n",
    "            if init[i:i+2] == rule[0]:\n",
    "                if i == 0:\n",
    "                    add = init[i] + rule[1] + init[i+1]\n",
    "                else:\n",
    "                    add = rule[1] + init[i+1]\n",
    "                new = new + add\n",
    "    # print(\"New state: {}\".format(new))\n",
    "    return new"
   ]
  },
  {
   "cell_type": "code",
   "execution_count": 32,
   "metadata": {},
   "outputs": [],
   "source": [
    "def walk(init,rules,steps):\n",
    "    '''\n",
    "    Given a string, it walks through the string applying the rules\n",
    "    to it.\n",
    "    '''\n",
    "    for i in range(steps):\n",
    "        print(\"Step {}\".format(i))\n",
    "        init = step(init,rules)\n",
    "    return init"
   ]
  },
  {
   "cell_type": "code",
   "execution_count": 33,
   "metadata": {},
   "outputs": [],
   "source": [
    "def get_common_string(string):\n",
    "    '''\n",
    "    Gets the number of times the most common string occurs\n",
    "    '''\n",
    "    counts = {}\n",
    "    for char in string:\n",
    "        if char in counts:\n",
    "            counts[char] += 1\n",
    "        else:\n",
    "            counts[char] = 1\n",
    "    return max(counts, key=counts.get), counts[max(counts, key=counts.get)]\n",
    "\n",
    "def get_least_common_string(string):\n",
    "    '''\n",
    "    Gets the number of times the least common string occurs\n",
    "    '''\n",
    "    counts = {}\n",
    "    for char in string:\n",
    "        if char in counts:\n",
    "            counts[char] += 1\n",
    "        else:\n",
    "            counts[char] = 1\n",
    "    return min(counts, key=counts.get), counts[min(counts, key=counts.get)]"
   ]
  },
  {
   "cell_type": "code",
   "execution_count": 34,
   "metadata": {},
   "outputs": [],
   "source": [
    "def task1(init,rules,steps):\n",
    "    '''\n",
    "    Given the initial state and the rules, it applies the rules\n",
    "    to the initial state and returns the number of times the most\n",
    "    common string occurs.\n",
    "    '''\n",
    "    init = walk(init,rules,steps)\n",
    "    return get_common_string(init)[1]-get_least_common_string(init)[1]"
   ]
  },
  {
   "cell_type": "code",
   "execution_count": 35,
   "metadata": {},
   "outputs": [],
   "source": [
    "init_sm,rules_sm = clean_input(input_sm)\n",
    "init_lg,rules_lg = clean_input(input_lg)"
   ]
  },
  {
   "cell_type": "code",
   "execution_count": 36,
   "metadata": {},
   "outputs": [
    {
     "name": "stdout",
     "output_type": "stream",
     "text": [
      "Step 0\n",
      "Step 1\n",
      "Step 2\n",
      "Step 3\n",
      "Step 4\n",
      "Step 5\n",
      "Step 6\n",
      "Step 7\n",
      "Step 8\n",
      "Step 9\n"
     ]
    },
    {
     "data": {
      "text/plain": [
       "2375"
      ]
     },
     "execution_count": 36,
     "metadata": {},
     "output_type": "execute_result"
    }
   ],
   "source": [
    "task1(init_lg,rules_lg,10)"
   ]
  },
  {
   "cell_type": "markdown",
   "metadata": {},
   "source": [
    "### Part 2"
   ]
  },
  {
   "cell_type": "code",
   "execution_count": 41,
   "metadata": {},
   "outputs": [],
   "source": [
    "init_sm, rules_sm = clean_input(input_sm)"
   ]
  },
  {
   "cell_type": "code",
   "execution_count": 49,
   "metadata": {},
   "outputs": [
    {
     "data": {
      "text/plain": [
       "'NNCB'"
      ]
     },
     "execution_count": 49,
     "metadata": {},
     "output_type": "execute_result"
    }
   ],
   "source": [
    "init_sm"
   ]
  },
  {
   "cell_type": "code",
   "execution_count": 52,
   "metadata": {},
   "outputs": [],
   "source": [
    "# Crate dictionary of pairs based on the initial input\n",
    "def create_initial_state(init):\n",
    "    '''\n",
    "    Creates a dictionary of pairs based on the initial state\n",
    "    '''\n",
    "    pairs = {}\n",
    "    for i in range(len(init)):\n",
    "        if i == len(init)-1:\n",
    "            continue\n",
    "        curr_pair = init[i:i+2]\n",
    "        pairs[curr_pair] = pairs.get(curr_pair,0) + 1\n",
    "    return pairs\n"
   ]
  },
  {
   "cell_type": "code",
   "execution_count": 54,
   "metadata": {},
   "outputs": [
    {
     "data": {
      "text/plain": [
       "{'NN': 1, 'NC': 1, 'CB': 1}"
      ]
     },
     "execution_count": 54,
     "metadata": {},
     "output_type": "execute_result"
    }
   ],
   "source": [
    "create_initial_state(init_sm)"
   ]
  },
  {
   "cell_type": "code",
   "execution_count": 55,
   "metadata": {},
   "outputs": [
    {
     "data": {
      "text/plain": [
       "[['CH', 'B'],\n",
       " ['HH', 'N'],\n",
       " ['CB', 'H'],\n",
       " ['NH', 'C'],\n",
       " ['HB', 'C'],\n",
       " ['HC', 'B'],\n",
       " ['HN', 'C'],\n",
       " ['NN', 'C'],\n",
       " ['BH', 'H'],\n",
       " ['NC', 'B'],\n",
       " ['NB', 'B'],\n",
       " ['BN', 'B'],\n",
       " ['BB', 'N'],\n",
       " ['BC', 'B'],\n",
       " ['CC', 'N'],\n",
       " ['CN', 'C']]"
      ]
     },
     "execution_count": 55,
     "metadata": {},
     "output_type": "execute_result"
    }
   ],
   "source": [
    "rules_sm"
   ]
  },
  {
   "cell_type": "code",
   "execution_count": 168,
   "metadata": {},
   "outputs": [],
   "source": [
    "def step(iter_dct,rules):\n",
    "    '''\n",
    "    Walks over dictionary and adds pairs based on the rules\n",
    "    '''\n",
    "    new_dict = {}\n",
    "    for pairs,cnt in iter_dct.items():\n",
    "        for rule in rules:\n",
    "            if pairs == rule[0]:\n",
    "                pair1 = rule[0][0] + rule[1]\n",
    "                pair2 = rule[1] + rule[0][1]\n",
    "                new_dict[pair1] = new_dict.get(pair1,0) + cnt \n",
    "                new_dict[pair2] = new_dict.get(pair2,0) + cnt\n",
    "    return new_dict"
   ]
  },
  {
   "cell_type": "code",
   "execution_count": 169,
   "metadata": {},
   "outputs": [],
   "source": [
    "def walk(init,rules,steps):\n",
    "    '''\n",
    "    Walks over the dictionary and applies the rules\n",
    "    '''\n",
    "    iter_dct = create_initial_state(init)\n",
    "    for i in range(steps):\n",
    "        iter_dct = step(iter_dct,rules)\n",
    "    return iter_dct"
   ]
  },
  {
   "cell_type": "code",
   "execution_count": 170,
   "metadata": {},
   "outputs": [],
   "source": [
    "def count_letters(iter_dct):\n",
    "    '''\n",
    "    Counts the number of occurrences of each letter in the initial state\n",
    "    '''\n",
    "    counts = {}\n",
    "    for pairs,count in iter_dct.items():\n",
    "        counts[pairs[0]] = counts.get(pairs[0],0) + count\n",
    "        counts[pairs[1]] = counts.get(pairs[1],0) + count\n",
    "    # Divide by 2 because we counted each pair twice\n",
    "    counts = {k:v//2 for k,v in counts.items()}\n",
    "    return counts"
   ]
  },
  {
   "cell_type": "code",
   "execution_count": 173,
   "metadata": {},
   "outputs": [],
   "source": [
    "dct1 = walk(init_sm,rules_sm,2)\n",
    "dct10 = walk(init_sm,rules_sm,10)\n",
    "dct40 = walk(init_lg,rules_lg,40)"
   ]
  },
  {
   "cell_type": "code",
   "execution_count": 172,
   "metadata": {},
   "outputs": [
    {
     "data": {
      "text/plain": [
       "{'N': 864, 'B': 1748, 'C': 298, 'H': 161}"
      ]
     },
     "execution_count": 172,
     "metadata": {},
     "output_type": "execute_result"
    }
   ],
   "source": [
    "count_letters(dct10)"
   ]
  },
  {
   "cell_type": "code",
   "execution_count": 179,
   "metadata": {},
   "outputs": [],
   "source": [
    "letters40 = count_letters(dct40)"
   ]
  },
  {
   "cell_type": "code",
   "execution_count": 182,
   "metadata": {},
   "outputs": [],
   "source": [
    "# Get the number of occurrences of the most common letter\n",
    "most_common = max(letters40, key=letters40.get)\n",
    "least_common = min(letters40, key=letters40.get)"
   ]
  },
  {
   "cell_type": "code",
   "execution_count": 185,
   "metadata": {},
   "outputs": [
    {
     "data": {
      "text/plain": [
       "1976896901756"
      ]
     },
     "execution_count": 185,
     "metadata": {},
     "output_type": "execute_result"
    }
   ],
   "source": [
    "(letters40[most_common]+1)-(letters40[least_common])"
   ]
  },
  {
   "cell_type": "code",
   "execution_count": null,
   "metadata": {},
   "outputs": [],
   "source": []
  }
 ],
 "metadata": {
  "interpreter": {
   "hash": "e94c633992c6d0be27e4b04a1c9349b29ea3a18f141ab55d8d931a4ccb7d656a"
  },
  "kernelspec": {
   "display_name": "Python 3.8.5 64-bit ('base': conda)",
   "language": "python",
   "name": "python3"
  },
  "language_info": {
   "codemirror_mode": {
    "name": "ipython",
    "version": 3
   },
   "file_extension": ".py",
   "mimetype": "text/x-python",
   "name": "python",
   "nbconvert_exporter": "python",
   "pygments_lexer": "ipython3",
   "version": "3.8.5"
  },
  "orig_nbformat": 4
 },
 "nbformat": 4,
 "nbformat_minor": 2
}
