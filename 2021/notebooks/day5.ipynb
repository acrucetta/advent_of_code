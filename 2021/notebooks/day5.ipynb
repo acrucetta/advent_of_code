{
 "cells": [
  {
   "cell_type": "markdown",
   "metadata": {},
   "source": [
    "Each line of vents is given as a line segment in the format x1,y1 -> x2,y2 where x1,y1 are the coordinates of one end the line segment and x2,y2 are the coordinates of the other end. These line segments include the points at both ends. In other words:\n",
    "\n",
    "    An entry like 1,1 -> 1,3 covers points 1,1, 1,2, and 1,3.\n",
    "    An entry like 9,7 -> 7,7 covers points 9,7, 8,7, and 7,7.\n",
    "\n",
    "For now, only consider horizontal and vertical lines: lines where either x1 = x2 or y1 = y2.\n",
    "\n",
    "Example Input:\n",
    "\n",
    "```\n",
    "0,9 -> 5,9\n",
    "8,0 -> 0,8\n",
    "9,4 -> 3,4\n",
    "2,2 -> 2,1\n",
    "7,0 -> 7,4\n",
    "6,4 -> 2,0\n",
    "0,9 -> 2,9\n",
    "3,4 -> 1,4\n",
    "0,0 -> 8,8\n",
    "5,5 -> 8,2\n",
    "```\n",
    "\n",
    "So, the horizontal and vertical lines from the above list would produce the following diagram:\n",
    "\n",
    "```\n",
    ".......1..\n",
    "..1....1..\n",
    "..1....1..\n",
    ".......1..\n",
    ".112111211\n",
    "..........\n",
    "..........\n",
    "..........\n",
    "..........\n",
    "222111....\n",
    "```\n",
    "\n",
    "In this diagram, the top left corner is 0,0 and the bottom right corner is 9,9. Each position is shown as the number of lines which cover that point or . if no line covers that point. The top-left pair of 1s, for example, comes from 2,2 -> 2,1; the very bottom row is formed by the overlapping lines 0,9 -> 5,9 and 0,9 -> 2,9."
   ]
  },
  {
   "cell_type": "markdown",
   "metadata": {},
   "source": [
    "To avoid the most dangerous areas, you need to determine the number of points where at least two lines overlap. In the above example, this is anywhere in the diagram with a 2 or larger - a total of 5 points.\n",
    "\n",
    "Consider only horizontal and vertical lines. At how many points do at least two lines overlap?"
   ]
  },
  {
   "cell_type": "code",
   "execution_count": 1,
   "metadata": {},
   "outputs": [
    {
     "data": {
      "text/plain": [
       "'\\nGeneral approach:\\n    1. Read in the input file\\n    2. Create a class with the Ocean floor\\n        - It will have an expanding 2D array of the floor\\n        - Each array will mark a particular spot on the floor\\n        for every time a line passes through it\\n    3. Walk over the final array and count the number of instances where\\n    at least two lines pass through the same spot.\\n'"
      ]
     },
     "execution_count": 1,
     "metadata": {},
     "output_type": "execute_result"
    }
   ],
   "source": [
    "'''\n",
    "General approach:\n",
    "    1. Read in the input file\n",
    "        - Parse each set of coordinates\n",
    "        - Store the coordinates in a list\n",
    "    2. Create a class with the Ocean floor\n",
    "        - It will have an expanding 2D array of the floor\n",
    "        - Each array will mark a particular spot on the floor\n",
    "        for every time a line passes through it\n",
    "    3. Walk over the final array and count the number of instances where\n",
    "    at least two lines pass through the same spot.\n",
    "'''"
   ]
  },
  {
   "cell_type": "code",
   "execution_count": 35,
   "metadata": {},
   "outputs": [],
   "source": [
    "import numpy as np"
   ]
  },
  {
   "cell_type": "code",
   "execution_count": 36,
   "metadata": {},
   "outputs": [],
   "source": [
    "def from_str(cls,floor_str):\n",
    "    for line in floor_str:\n",
    "        coords = lines[0].split('\\n')[0].split('->')\n",
    "        coords_lst = list(map(lambda x: x.strip().split(','), coords))\n",
    "        coords_int = list(map(lambda x: list(map(lambda y: int(y.strip()), x)), coords_lst))\n",
    "        x1 = coords_int[0][0]\n",
    "        x2 = coords_int[0][1]\n",
    "        y1 = coords_int[1][0]\n",
    "        y2 = coords_int[1][1]\n",
    "        "
   ]
  },
  {
   "cell_type": "code",
   "execution_count": 37,
   "metadata": {},
   "outputs": [],
   "source": [
    "file_path = '/Users/andrescrucettanieto/Documents/GitHub/advent_of_code/2021/data/05.txt'\n",
    "with open(file_path) as f:\n",
    "    coordinates = f.readlines()"
   ]
  },
  {
   "cell_type": "code",
   "execution_count": 94,
   "metadata": {},
   "outputs": [],
   "source": [
    "class Floor:\n",
    "    '''\n",
    "    Class representing the Ocean floor\n",
    "    '''\n",
    "    def __init__(self, directions, width, height):\n",
    "        '''\n",
    "        Constructor for the Floor class\n",
    "        '''\n",
    "        self.directions = directions\n",
    "        self.height = height\n",
    "        self.width = width\n",
    "        self.floor = np.zeros((height+1, width+1))\n",
    "        \n",
    "    def walk_through_directions(self):\n",
    "        '''\n",
    "        Walk through the directions and update the floor with a 1\n",
    "        for every time a line passes through it.\n",
    "        '''\n",
    "        for _,direction in self.directions.items():\n",
    "            x1 = direction[0][0]\n",
    "            x2 = direction[0][1]\n",
    "            y1 = direction[1][0]\n",
    "            y2 = direction[1][1]\n",
    "            # Marking horizontal lines\n",
    "            for i in range(y1, y2):\n",
    "                self.floor[x1, i] += 1\n",
    "                \n",
    "            # Marking vertical lines\n",
    "            for i in range(x1, x2):\n",
    "                self.floor[i, y1] += 1\n",
    "        return self.floor\n",
    "    \n",
    "    def get_values_at_least_two(self):\n",
    "        '''\n",
    "        Get the values at least two times\n",
    "        '''\n",
    "        return (self.floor >= 2).sum()\n",
    "            \n",
    "def read_input(coordinates):\n",
    "    directions = {}\n",
    "    max_x = 0\n",
    "    max_y = 0\n",
    "    for i,coord in enumerate(coordinates):\n",
    "        coords = coord.split('\\n')[0].split('->')\n",
    "        coords_lst = list(map(lambda x: x.strip().split(','), coords))\n",
    "        coords_int = list(map(lambda x: list(map(lambda y: int(y.strip()), x)), coords_lst))\n",
    "        x2 = coords_int[1][0]\n",
    "        y2 = coords_int[1][1]\n",
    "        if x2 > max_x:\n",
    "            max_x = x2\n",
    "        if y2 > max_y:\n",
    "            max_y = y2\n",
    "        directions[i] = coords_int\n",
    "    return directions, max_x, max_y\n",
    "            "
   ]
  },
  {
   "cell_type": "code",
   "execution_count": 95,
   "metadata": {},
   "outputs": [],
   "source": [
    "directions, max_x, max_y = read_input(coordinates)"
   ]
  },
  {
   "cell_type": "code",
   "execution_count": 96,
   "metadata": {},
   "outputs": [],
   "source": [
    "floor = Floor(directions, max_x, max_y)"
   ]
  },
  {
   "cell_type": "code",
   "execution_count": 98,
   "metadata": {},
   "outputs": [
    {
     "data": {
      "text/plain": [
       "144293"
      ]
     },
     "execution_count": 98,
     "metadata": {},
     "output_type": "execute_result"
    }
   ],
   "source": [
    "new_floor = floor.walk_through_directions()\n",
    "floor.get_values_at_least_two()"
   ]
  }
 ],
 "metadata": {
  "interpreter": {
   "hash": "ef65d36c5832b5d2b2d2554884255934781dba156dd958bf166a787c63cbd994"
  },
  "kernelspec": {
   "display_name": "Python 3.8.5 64-bit ('aocenv': venv)",
   "language": "python",
   "name": "python3"
  },
  "language_info": {
   "codemirror_mode": {
    "name": "ipython",
    "version": 3
   },
   "file_extension": ".py",
   "mimetype": "text/x-python",
   "name": "python",
   "nbconvert_exporter": "python",
   "pygments_lexer": "ipython3",
   "version": "3.8.5"
  },
  "orig_nbformat": 4
 },
 "nbformat": 4,
 "nbformat_minor": 2
}
