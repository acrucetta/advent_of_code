{
 "cells": [
  {
   "cell_type": "markdown",
   "metadata": {},
   "source": [
    "### Day 5"
   ]
  },
  {
   "cell_type": "markdown",
   "metadata": {},
   "source": [
    "Each line of vents is given as a line segment in the format x1,y1 -> x2,y2 where x1,y1 are the coordinates of one end the line segment and x2,y2 are the coordinates of the other end. These line segments include the points at both ends. In other words:\n",
    "\n",
    "    An entry like 1,1 -> 1,3 covers points 1,1, 1,2, and 1,3.\n",
    "    An entry like 9,7 -> 7,7 covers points 9,7, 8,7, and 7,7.\n",
    "\n",
    "For now, only consider horizontal and vertical lines: lines where either x1 = x2 or y1 = y2.\n",
    "\n",
    "Example Input:\n",
    "\n",
    "```\n",
    "0,9 -> 5,9\n",
    "8,0 -> 0,8\n",
    "9,4 -> 3,4\n",
    "2,2 -> 2,1\n",
    "7,0 -> 7,4\n",
    "6,4 -> 2,0\n",
    "0,9 -> 2,9\n",
    "3,4 -> 1,4\n",
    "0,0 -> 8,8\n",
    "5,5 -> 8,2\n",
    "```\n",
    "\n",
    "So, the horizontal and vertical lines from the above list would produce the following diagram:\n",
    "\n",
    "```\n",
    ".......1..\n",
    "..1....1..\n",
    "..1....1..\n",
    ".......1..\n",
    ".112111211\n",
    "..........\n",
    "..........\n",
    "..........\n",
    "..........\n",
    "222111....\n",
    "```\n",
    "\n",
    "In this diagram, the top left corner is 0,0 and the bottom right corner is 9,9. Each position is shown as the number of lines which cover that point or . if no line covers that point. The top-left pair of 1s, for example, comes from 2,2 -> 2,1; the very bottom row is formed by the overlapping lines 0,9 -> 5,9 and 0,9 -> 2,9."
   ]
  },
  {
   "cell_type": "markdown",
   "metadata": {},
   "source": [
    "To avoid the most dangerous areas, you need to determine the number of points where at least two lines overlap. In the above example, this is anywhere in the diagram with a 2 or larger - a total of 5 points.\n",
    "\n",
    "Consider only horizontal and vertical lines. At how many points do at least two lines overlap?"
   ]
  },
  {
   "cell_type": "code",
   "execution_count": 1,
   "metadata": {},
   "outputs": [
    {
     "data": {
      "text/plain": [
       "'\\nGeneral approach:\\n    1. Read in the input file\\n        - Parse each set of coordinates\\n        - Store the coordinates in a list\\n    2. Create a class with the Ocean floor\\n        - It will have an expanding 2D array of the floor\\n        - Each array will mark a particular spot on the floor\\n        for every time a line passes through it\\n    3. Walk over the final array and count the number of instances where\\n    at least two lines pass through the same spot.\\n'"
      ]
     },
     "execution_count": 1,
     "metadata": {},
     "output_type": "execute_result"
    }
   ],
   "source": [
    "'''\n",
    "General approach:\n",
    "    1. Read in the input file\n",
    "        - Parse each set of coordinates\n",
    "        - Store the coordinates in a list\n",
    "    2. Create a class with the Ocean floor\n",
    "        - It will have an expanding 2D array of the floor\n",
    "        - Each array will mark a particular spot on the floor\n",
    "        for every time a line passes through it\n",
    "    3. Walk over the final array and count the number of instances where\n",
    "    at least two lines pass through the same spot.\n",
    "'''"
   ]
  },
  {
   "cell_type": "code",
   "execution_count": 2,
   "metadata": {},
   "outputs": [],
   "source": [
    "import numpy as np"
   ]
  },
  {
   "cell_type": "code",
   "execution_count": 3,
   "metadata": {},
   "outputs": [],
   "source": [
    "file_path = '/Users/andrescrucettanieto/Documents/GitHub/advent_of_code/2021/data/05.txt'\n",
    "test_path = '/Users/andrescrucettanieto/Documents/GitHub/advent_of_code/2021/data/05_test.txt'\n",
    "test2_path = '/Users/andrescrucettanieto/Documents/GitHub/advent_of_code/2021/data/05_test2.txt'\n",
    "\n",
    "def read_input(file_path):\n",
    "    with open(file_path) as f:\n",
    "        coords = f.readlines()\n",
    "    return coords"
   ]
  },
  {
   "cell_type": "code",
   "execution_count": 4,
   "metadata": {},
   "outputs": [],
   "source": [
    "test_coordinates = read_input(test_path)\n",
    "test2_coordinates = read_input(test2_path)\n",
    "full_coordinates = read_input(file_path)"
   ]
  },
  {
   "cell_type": "code",
   "execution_count": 5,
   "metadata": {},
   "outputs": [
    {
     "name": "stdout",
     "output_type": "stream",
     "text": [
      "1\n"
     ]
    }
   ],
   "source": [
    "for i in range(1,1+1):\n",
    "    print(i)"
   ]
  },
  {
   "cell_type": "code",
   "execution_count": 6,
   "metadata": {},
   "outputs": [
    {
     "data": {
      "text/plain": [
       "0.0"
      ]
     },
     "execution_count": 6,
     "metadata": {},
     "output_type": "execute_result"
    }
   ],
   "source": [
    "arr = np.zeros((10,10))\n",
    "arr[0,9]"
   ]
  },
  {
   "cell_type": "code",
   "execution_count": 7,
   "metadata": {},
   "outputs": [
    {
     "ename": "NameError",
     "evalue": "name 'y1' is not defined",
     "output_type": "error",
     "traceback": [
      "\u001b[0;31m---------------------------------------------------------------------------\u001b[0m",
      "\u001b[0;31mNameError\u001b[0m                                 Traceback (most recent call last)",
      "\u001b[0;32m<ipython-input-7-4686504a0920>\u001b[0m in \u001b[0;36m<module>\u001b[0;34m\u001b[0m\n\u001b[1;32m      1\u001b[0m \u001b[0;31m# Checking for diagonally going down\u001b[0m\u001b[0;34m\u001b[0m\u001b[0;34m\u001b[0m\u001b[0;34m\u001b[0m\u001b[0m\n\u001b[0;32m----> 2\u001b[0;31m \u001b[0;32mif\u001b[0m \u001b[0my1\u001b[0m \u001b[0;34m>\u001b[0m \u001b[0my2\u001b[0m \u001b[0;32mand\u001b[0m \u001b[0mx1\u001b[0m \u001b[0;34m>\u001b[0m \u001b[0mx2\u001b[0m\u001b[0;34m:\u001b[0m\u001b[0;34m\u001b[0m\u001b[0;34m\u001b[0m\u001b[0m\n\u001b[0m\u001b[1;32m      3\u001b[0m     \u001b[0mprint\u001b[0m\u001b[0;34m(\u001b[0m\u001b[0;34m\"Diagonal down:\"\u001b[0m \u001b[0;34m+\u001b[0m \u001b[0mstr\u001b[0m\u001b[0;34m(\u001b[0m\u001b[0mdirection\u001b[0m\u001b[0;34m)\u001b[0m\u001b[0;34m)\u001b[0m\u001b[0;34m\u001b[0m\u001b[0;34m\u001b[0m\u001b[0m\n\u001b[1;32m      4\u001b[0m     \u001b[0mj\u001b[0m \u001b[0;34m=\u001b[0m \u001b[0mmax\u001b[0m\u001b[0;34m(\u001b[0m\u001b[0my1\u001b[0m\u001b[0;34m,\u001b[0m\u001b[0my2\u001b[0m\u001b[0;34m)\u001b[0m\u001b[0;34m\u001b[0m\u001b[0;34m\u001b[0m\u001b[0m\n\u001b[1;32m      5\u001b[0m     \u001b[0;32mfor\u001b[0m \u001b[0mi\u001b[0m \u001b[0;32min\u001b[0m \u001b[0mrange\u001b[0m\u001b[0;34m(\u001b[0m\u001b[0mx1\u001b[0m\u001b[0;34m,\u001b[0m \u001b[0mx2\u001b[0m\u001b[0;34m+\u001b[0m\u001b[0;36m1\u001b[0m\u001b[0;34m)\u001b[0m\u001b[0;34m:\u001b[0m\u001b[0;34m\u001b[0m\u001b[0;34m\u001b[0m\u001b[0m\n",
      "\u001b[0;31mNameError\u001b[0m: name 'y1' is not defined"
     ]
    }
   ],
   "source": [
    "                    # Checking for diagonally going down\n",
    "                    if y1 > y2 and x1 > x2:\n",
    "                        print(\"Diagonal down:\" + str(direction))\n",
    "                        j = max(y1,y2)\n",
    "                        for i in range(x1, x2+1):\n",
    "                            print(\"Marking: \" + str(j) + \",\" + str(i))\n",
    "                            self.floor[j,i] += 1\n",
    "                            j -= 1\n",
    "                    # Checking for diagonally right down\n",
    "                    if x1 > x2 and y1 < y2:\n",
    "                        print(\"Diagonal left:\" + str(direction))\n",
    "                        j = max(x1,x2)\n",
    "                        for i in range(x1, x2+1):\n",
    "                            print(\"Marking: \" + str(i) + \",\" + str(j))\n",
    "                            self.floor[i,j] += 1\n",
    "                            j -= 1  \n",
    "                    # Checking for diagonally left down\n",
    "                    if x1 < x2 and y1 > y2:\n",
    "                        j = max(x1,x2)\n",
    "                        for i in range(y1, y2+1):\n",
    "                            print(\"Marking: \" + str(j) + \",\" + str(i))\n",
    "                            self.floor[j,i] += 1\n",
    "                            j -= 1"
   ]
  },
  {
   "cell_type": "code",
   "execution_count": 16,
   "metadata": {},
   "outputs": [],
   "source": [
    "class Floor:\n",
    "    '''\n",
    "    Class representing the Ocean floor\n",
    "    '''\n",
    "    def __init__(self, directions, width, height):\n",
    "        '''\n",
    "        Constructor for the Floor class\n",
    "        '''\n",
    "        self.directions = directions\n",
    "        self.height = height\n",
    "        self.width = width\n",
    "        self.floor = np.zeros((height+1, width+1))\n",
    "    \n",
    "    def walk_lines(self,diagonal=False):\n",
    "        '''\n",
    "        Walk through the directions and update the floor with a 1\n",
    "        for every time a line passes through it.\n",
    "        '''\n",
    "        for _,direction in self.directions.items():\n",
    "            x1, x2 = direction[0][1], direction[1][1]\n",
    "            y1, y2 = direction[0][0], direction[1][0]\n",
    "            \n",
    "            # If the line is diagonal, we need to check for the diagonal\n",
    "            if diagonal:\n",
    "                # Marking diagonal entries in the array\n",
    "                if not y1 == y2 and not x1 == x2:\n",
    "                    if x1 > x2:\n",
    "                        x1, x2 = x2, x1\n",
    "                        y1, y2 = y2, y1\n",
    "                    # Checking for diagonal line right down\n",
    "                    if x1 < x2 and y1 < y2:\n",
    "                        j = y1\n",
    "                        for i in range(x1, x2+1):\n",
    "                            self.floor[i,j] += 1\n",
    "                            j += 1\n",
    "                    # Checking for diagonal line right up\n",
    "                    if x1 < x2 and y1 > y2:\n",
    "                        j = y1\n",
    "                        for i in range(x1,x2+1):\n",
    "                            self.floor[i,j] += 1\n",
    "                            j -= 1\n",
    "            # Checking for backwards lines\n",
    "            if x1 > x2:\n",
    "                x1, x2 = x2, x1\n",
    "            elif y1 > y2:\n",
    "                y1, y2 = y2, y1            \n",
    "            \n",
    "            if y1 == y2:\n",
    "                # Marking horizontal lines\n",
    "                for i in range(x1, x2+1):\n",
    "                    self.floor[i, y1] += 1\n",
    "            if x1 == x2:  \n",
    "                # Marking vertical lines\n",
    "                for i in range(y1, y2+1):\n",
    "                    self.floor[x1,i] += 1 \n",
    "        return self.floor\n",
    "    \n",
    "    def get_values_at_least_two(self):\n",
    "        '''\n",
    "        Get the values at least two times\n",
    "        '''\n",
    "        return (self.floor >= 2).sum()\n",
    "            \n",
    "def read_input(coordinates):\n",
    "    directions = {}\n",
    "    max_x = 0\n",
    "    max_y = 0\n",
    "    for i,coord in enumerate(coordinates):\n",
    "        coords = coord.split('\\n')[0].split('->')\n",
    "        coords_lst = list(map(lambda x: x.strip().split(','), coords))\n",
    "        coords_int = list(map(lambda x: list(map(lambda y: int(y.strip()), x)), coords_lst))\n",
    "        x1, x2 = coords_int[0][0], coords_int[1][0]\n",
    "        y1, y2 = coords_int[0][1], coords_int[1][1]\n",
    "        if x2 > max_x or x1 > max_x:\n",
    "            max_x = max(x2, x1)\n",
    "        if y2 > max_y or y1 > max_y:\n",
    "            max_y = max(y2, y1)\n",
    "        directions[i] = coords_int\n",
    "    return directions, max_x, max_y"
   ]
  },
  {
   "cell_type": "code",
   "execution_count": 20,
   "metadata": {},
   "outputs": [],
   "source": [
    "directions, max_x, max_y = read_input(full_coordinates)"
   ]
  },
  {
   "cell_type": "code",
   "execution_count": 21,
   "metadata": {},
   "outputs": [],
   "source": [
    "floor = Floor(directions, max_x, max_y)"
   ]
  },
  {
   "cell_type": "code",
   "execution_count": 22,
   "metadata": {},
   "outputs": [
    {
     "data": {
      "text/plain": [
       "21514"
      ]
     },
     "execution_count": 22,
     "metadata": {},
     "output_type": "execute_result"
    }
   ],
   "source": [
    "new_floor = floor.walk_lines(diagonal=True)\n",
    "floor.get_values_at_least_two()"
   ]
  },
  {
   "cell_type": "code",
   "execution_count": 12,
   "metadata": {},
   "outputs": [
    {
     "data": {
      "text/plain": [
       "array([[2., 0., 0., 0., 0., 0., 0., 0., 0., 2.],\n",
       "       [0., 2., 0., 0., 0., 0., 0., 0., 2., 0.],\n",
       "       [0., 0., 2., 0., 0., 0., 0., 2., 0., 0.],\n",
       "       [0., 0., 0., 2., 0., 0., 2., 0., 0., 0.],\n",
       "       [0., 0., 0., 0., 2., 2., 0., 0., 0., 0.],\n",
       "       [0., 0., 0., 0., 2., 2., 0., 0., 0., 0.],\n",
       "       [0., 0., 0., 2., 0., 0., 2., 0., 0., 0.],\n",
       "       [0., 0., 2., 0., 0., 0., 0., 2., 0., 0.],\n",
       "       [0., 2., 0., 0., 0., 0., 0., 0., 2., 0.],\n",
       "       [2., 0., 0., 0., 0., 0., 0., 0., 0., 2.]])"
      ]
     },
     "execution_count": 12,
     "metadata": {},
     "output_type": "execute_result"
    }
   ],
   "source": [
    "floor.floor"
   ]
  },
  {
   "cell_type": "code",
   "execution_count": null,
   "metadata": {},
   "outputs": [],
   "source": []
  }
 ],
 "metadata": {
  "interpreter": {
   "hash": "ef65d36c5832b5d2b2d2554884255934781dba156dd958bf166a787c63cbd994"
  },
  "kernelspec": {
   "display_name": "Python 3.8.5 64-bit ('aocenv': venv)",
   "language": "python",
   "name": "python3"
  },
  "language_info": {
   "codemirror_mode": {
    "name": "ipython",
    "version": 3
   },
   "file_extension": ".py",
   "mimetype": "text/x-python",
   "name": "python",
   "nbconvert_exporter": "python",
   "pygments_lexer": "ipython3",
   "version": "3.8.5"
  },
  "orig_nbformat": 4
 },
 "nbformat": 4,
 "nbformat_minor": 2
}
