{
 "cells": [
  {
   "cell_type": "markdown",
   "metadata": {},
   "source": [
    "### Day 6"
   ]
  },
  {
   "cell_type": "markdown",
   "metadata": {},
   "source": [
    "Although you know nothing about this specific species of lanternfish, you make some guesses about their attributes. Surely, each lanternfish creates a new lanternfish once every 7 days.\n",
    "\n",
    "However, this process isn't necessarily synchronized between every lanternfish - one lanternfish might have 2 days left until it creates another lanternfish, while another might have 4. \n",
    "\n",
    "So, you can model each fish as a single number that represents the number of days until it creates a new lanternfish.\n",
    "\n",
    "**A lanternfish that creates a new fish resets its timer to 6, not 7** (because 0 is included as a valid timer value).\n",
    "\n",
    "**The new lanternfish starts with an internal timer of 8** and does not start counting down until the next day."
   ]
  },
  {
   "cell_type": "markdown",
   "metadata": {},
   "source": [
    "Function approach:\n",
    "- Read all of the input \n",
    "- Iterate for each day that passes\n",
    "- Append new fishes at the end of the list\n",
    "- Count the total number of lanternfish\n",
    "\n",
    "Conditions:\n",
    "- After t=0, the fish becomes 6, and a new fish is appended to the end of the list.\n",
    "- Once a fish spawns, it only starts counting down until the next day (the fish that was reset would be at 4 when this new fish is at 7)\n",
    "\n",
    "Need:\n",
    "- Count fishes as a dictionary"
   ]
  },
  {
   "cell_type": "markdown",
   "metadata": {},
   "source": [
    "    Initial state: 3,4,3,1,2\n",
    "    After  1 day:  2,3,2,0,1\n",
    "    After  2 days: 1,2,1,6,0,8\n",
    "    After  3 days: 0,1,0,5,6,7,8\n",
    "    After  4 days: 6,0,6,4,5,6,7,8,8\n",
    "    After  5 days: 5,6,5,3,4,5,6,7,7,8\n",
    "    After  6 days: 4,5,4,2,3,4,5,6,6,7\n",
    "    After  7 days: 3,4,3,1,2,3,4,5,5,6\n",
    "    After  8 days: 2,3,2,0,1,2,3,4,4,5\n",
    "    After  9 days: 1,2,1,6,0,1,2,3,3,4,8\n",
    "    After 10 days: 0,1,0,5,6,0,1,2,2,3,7,8\n",
    "    After 11 days: 6,0,6,4,5,6,0,1,1,2,6,7,8,8,8\n",
    "    After 12 days: 5,6,5,3,4,5,6,0,0,1,5,6,7,7,7,8,8\n",
    "    After 13 days: 4,5,4,2,3,4,5,6,6,0,4,5,6,6,6,7,7,8,8\n",
    "    After 14 days: 3,4,3,1,2,3,4,5,5,6,3,4,5,5,5,6,6,7,7,8\n",
    "    After 15 days: 2,3,2,0,1,2,3,4,4,5,2,3,4,4,4,5,5,6,6,7\n",
    "    After 16 days: 1,2,1,6,0,1,2,3,3,4,1,2,3,3,3,4,4,5,5,6,8\n",
    "    After 17 days: 0,1,0,5,6,0,1,2,2,3,0,1,2,2,2,3,3,4,4,5,7,8\n",
    "    After 18 days: 6,0,6,4,5,6,0,1,1,2,6,0,1,1,1,2,2,3,3,4,6,7,8,8,8,8"
   ]
  },
  {
   "cell_type": "code",
   "execution_count": 81,
   "metadata": {},
   "outputs": [],
   "source": [
    "filepath_test = '/Users/andrescrucettanieto/Documents/GitHub/advent_of_code/2021/data/06_test.txt'\n",
    "filepath_full = '/Users/andrescrucettanieto/Documents/GitHub/advent_of_code/2021/data/06.txt'\n",
    "def read_input(filepath):\n",
    "    with open(filepath) as f:\n",
    "        return list(map(lambda x: int(x),f.readlines()[0].split(',')))"
   ]
  },
  {
   "cell_type": "code",
   "execution_count": 82,
   "metadata": {},
   "outputs": [],
   "source": [
    "initial_fish_test = read_input(filepath)\n",
    "initial_fish_full = read_input(filepath_full)"
   ]
  },
  {
   "cell_type": "code",
   "execution_count": 23,
   "metadata": {},
   "outputs": [],
   "source": [
    "def create_fish_dictionary(initial_fish):\n",
    "    return {i:initial_fish[i] for i in range(len(initial_fish))}\n",
    "\n",
    "def add_fish(fish_dict):\n",
    "    '''\n",
    "    Appends a fish with a value of 8 to the end of the dictionary.\n",
    "    '''\n",
    "    fish_dict[len(fish_dict)] = 8\n",
    "    return fish_dict"
   ]
  },
  {
   "cell_type": "code",
   "execution_count": 87,
   "metadata": {},
   "outputs": [],
   "source": [
    "from copy import deepcopy\n",
    "\n",
    "def simulate_day(fish_dict):\n",
    "    '''\n",
    "    Simulates 1 day of the simulation.\n",
    "    \n",
    "    Conditions:\n",
    "        1. If the fish is at 0, it will spawn a new fish with a timer of 8.\n",
    "        2. If the fish is at a value of 8, it will be left alone for this simulation.\n",
    "    '''\n",
    "    curr_fish_pool = len(fish_dict)\n",
    "    fish_dict_copy = deepcopy(fish_dict)\n",
    "    for k,v in fish_dict_copy.items():\n",
    "        # If the fish is at 0, it will spawn a new fish with a timer of 8.\n",
    "        if v == 0:\n",
    "            add_fish(fish_dict)\n",
    "            # It will also reset its timer to 6.\n",
    "            fish_dict[k] = 6\n",
    "        # If it's a recently added fish, leave it alone.\n",
    "        elif k > curr_fish_pool - 1:\n",
    "            continue\n",
    "        else:\n",
    "            fish_dict[k] -= 1\n",
    "    return fish_dict"
   ]
  },
  {
   "cell_type": "code",
   "execution_count": 88,
   "metadata": {},
   "outputs": [],
   "source": [
    "def convert_to_list(fish_dict):\n",
    "    '''\n",
    "    Prints the current state of the fish.\n",
    "    '''\n",
    "    lst = []\n",
    "    for _,v in fish_dict.items():\n",
    "        lst.append(v)\n",
    "    return lst"
   ]
  },
  {
   "cell_type": "code",
   "execution_count": 92,
   "metadata": {},
   "outputs": [],
   "source": [
    "def simulate_n_days(fish_dict,n):\n",
    "    '''\n",
    "    Simulates n days of the simulation.\n",
    "    '''\n",
    "    for _ in range(1,n+1):\n",
    "        print(\"Day {}\".format(_))\n",
    "        fish_dict = simulate_day(fish_dict)\n",
    "    return list(fish_dict.keys())[-1]+1"
   ]
  },
  {
   "cell_type": "code",
   "execution_count": 93,
   "metadata": {},
   "outputs": [],
   "source": [
    "fish_dict_test = create_fish_dictionary(initial_fish_test)\n",
    "fish_dict_full = create_fish_dictionary(initial_fish_full)"
   ]
  },
  {
   "cell_type": "markdown",
   "metadata": {},
   "source": [
    "### Faster Solution"
   ]
  },
  {
   "cell_type": "code",
   "execution_count": 170,
   "metadata": {},
   "outputs": [],
   "source": [
    "def create_fish_list(initial_fish):\n",
    "    '''\n",
    "    Creates a list with the index as the age for that \n",
    "    fish, and the value for the number of fish in that \n",
    "    age.\n",
    "    '''\n",
    "    # Increase the value of the fish in the dictionary by 1 for every time we see\n",
    "    # that value in the initial_fish list.\n",
    "    fish_list = [0]*9\n",
    "    for i in initial_fish:\n",
    "        fish_list[i] += 1\n",
    "    return fish_list"
   ]
  },
  {
   "cell_type": "code",
   "execution_count": 222,
   "metadata": {},
   "outputs": [],
   "source": [
    "def simulate_day_fast(fish_list):\n",
    "    '''\n",
    "    Walks over the fish_list and increases the value of the fish based\n",
    "    on the conditions on the list.\n",
    "    '''\n",
    "    # print(\"Initial fish list: {}\".format(fish_list))\n",
    "    new_lst = fish_list.copy()\n",
    "    curr_0 = fish_list[0]\n",
    "    for i in range(8,-1,-1):\n",
    "        # Move the values in the list from one spot to the next in \n",
    "        # descending order.\n",
    "        new_lst[i-1] = fish_list[i]\n",
    "    new_lst[6] += curr_0\n",
    "    return new_lst"
   ]
  },
  {
   "cell_type": "code",
   "execution_count": 223,
   "metadata": {},
   "outputs": [],
   "source": [
    "fish_list = create_fish_list(initial_fish_full)"
   ]
  },
  {
   "cell_type": "code",
   "execution_count": 224,
   "metadata": {},
   "outputs": [
    {
     "data": {
      "text/plain": [
       "1590327954513"
      ]
     },
     "execution_count": 224,
     "metadata": {},
     "output_type": "execute_result"
    }
   ],
   "source": [
    "for _ in range(256):\n",
    "    fish_list = simulate_day_fast(fish_list)\n",
    "sum(fish_list)\n"
   ]
  },
  {
   "cell_type": "code",
   "execution_count": 206,
   "metadata": {},
   "outputs": [
    {
     "data": {
      "text/plain": [
       "[0, 1, 1, 2, 1]"
      ]
     },
     "execution_count": 206,
     "metadata": {},
     "output_type": "execute_result"
    }
   ],
   "source": [
    "create_fish_dictionary(initial_fish_test)"
   ]
  },
  {
   "cell_type": "code",
   "execution_count": null,
   "metadata": {},
   "outputs": [],
   "source": []
  }
 ],
 "metadata": {
  "interpreter": {
   "hash": "e94c633992c6d0be27e4b04a1c9349b29ea3a18f141ab55d8d931a4ccb7d656a"
  },
  "kernelspec": {
   "display_name": "Python 3.8.5 64-bit ('base': conda)",
   "language": "python",
   "name": "python3"
  },
  "language_info": {
   "codemirror_mode": {
    "name": "ipython",
    "version": 3
   },
   "file_extension": ".py",
   "mimetype": "text/x-python",
   "name": "python",
   "nbconvert_exporter": "python",
   "pygments_lexer": "ipython3",
   "version": "3.8.5"
  },
  "orig_nbformat": 4
 },
 "nbformat": 4,
 "nbformat_minor": 2
}
