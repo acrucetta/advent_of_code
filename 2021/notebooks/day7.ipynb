{
 "cells": [
  {
   "cell_type": "markdown",
   "metadata": {},
   "source": [
    "Determine the horizontal position that the crabs can align to using the least fuel possible. How much fuel must they spend to align to that position?"
   ]
  },
  {
   "cell_type": "markdown",
   "metadata": {},
   "source": [
    "For example, consider the following horizontal positions:\n",
    "\n",
    "16,1,2,0,4,2,7,1,2,14\n",
    "\n",
    "This means there's a crab with horizontal position 16, a crab with horizontal position 1, and so on.\n",
    "\n",
    "Each change of 1 step in horizontal position of a single crab costs 1 fuel. You could choose any horizontal position to align them all on, but the one that costs the least fuel is horizontal position 2:\n",
    "\n",
    "    Move from 16 to 2: 14 fuel\n",
    "    Move from 1 to 2: 1 fuel\n",
    "    Move from 2 to 2: 0 fuel\n",
    "    Move from 0 to 2: 2 fuel\n",
    "    Move from 4 to 2: 2 fuel\n",
    "    Move from 2 to 2: 0 fuel\n",
    "    Move from 7 to 2: 5 fuel\n",
    "    Move from 1 to 2: 1 fuel\n",
    "    Move from 2 to 2: 0 fuel\n",
    "    Move from 14 to 2: 12 fuel\n"
   ]
  },
  {
   "cell_type": "code",
   "execution_count": 1,
   "metadata": {},
   "outputs": [],
   "source": [
    "filepath_test = '/Users/andrescrucettanieto/Documents/GitHub/advent_of_code/2021/data/07_test.txt'\n",
    "filepath_full = '/Users/andrescrucettanieto/Documents/GitHub/advent_of_code/2021/data/07.txt'\n",
    "def read_input(filepath):\n",
    "    with open(filepath) as f:\n",
    "        return list(map(lambda x: int(x),f.readlines()[0].split(',')))"
   ]
  },
  {
   "cell_type": "code",
   "execution_count": 2,
   "metadata": {},
   "outputs": [],
   "source": [
    "test = read_input(filepath_test)\n",
    "full = read_input(filepath_full)"
   ]
  },
  {
   "cell_type": "code",
   "execution_count": 18,
   "metadata": {},
   "outputs": [],
   "source": [
    "def take_median(lst):\n",
    "    lst = sorted(lst)\n",
    "    if len(lst) % 2 == 1:\n",
    "        return lst[len(lst)//2]\n",
    "    else:\n",
    "        return (lst[len(lst)//2] + lst[len(lst)//2 - 1])/2"
   ]
  },
  {
   "cell_type": "code",
   "execution_count": 19,
   "metadata": {},
   "outputs": [],
   "source": [
    "def take_mean(lst):\n",
    "    return round(sum(lst)/len(lst),0)"
   ]
  },
  {
   "cell_type": "code",
   "execution_count": 20,
   "metadata": {},
   "outputs": [],
   "source": [
    "def increase_exp(distance):\n",
    "    return [i+1 for i in range(distance)]"
   ]
  },
  {
   "cell_type": "code",
   "execution_count": 48,
   "metadata": {},
   "outputs": [],
   "source": [
    "def calculate_fuel(lst, exp=False):\n",
    "    '''\n",
    "    Calculates the distance between each value in the list\n",
    "    and the median.\n",
    "    '''\n",
    "    fuel_lst = []\n",
    "    fuel_upper, fuel_lower = [], []\n",
    "    mean = round(take_mean(lst))\n",
    "    mean_upper, mean_lower = round(take_mean(lst))+1, round(take_mean(lst))-1\n",
    "    median = take_median(lst)\n",
    "    if exp:\n",
    "        for i in lst:\n",
    "            distance = int(abs(i-mean))\n",
    "            dist_upper, dist_lower = int(abs(i-mean_upper)), int(abs(i-mean_lower))\n",
    "            fuel = sum(increase_exp(distance))\n",
    "            fuel_up, fuel_low = sum(increase_exp(dist_upper)), sum(increase_exp(dist_lower))\n",
    "            fuel_lst.append(fuel)\n",
    "            fuel_upper.append(fuel_up)\n",
    "            fuel_lower.append(fuel_low)\n",
    "    else:\n",
    "        for i in lst:\n",
    "            fuel_lst.append(abs(i-median))\n",
    "    return sum(fuel_lst), sum(fuel_upper), sum(fuel_lower)\n",
    "    "
   ]
  },
  {
   "cell_type": "code",
   "execution_count": 49,
   "metadata": {},
   "outputs": [
    {
     "data": {
      "text/plain": [
       "(96744966, 96746029, 96744904)"
      ]
     },
     "execution_count": 49,
     "metadata": {},
     "output_type": "execute_result"
    }
   ],
   "source": [
    "calculate_fuel(full, exp=True)"
   ]
  },
  {
   "cell_type": "code",
   "execution_count": null,
   "metadata": {},
   "outputs": [],
   "source": []
  }
 ],
 "metadata": {
  "interpreter": {
   "hash": "e94c633992c6d0be27e4b04a1c9349b29ea3a18f141ab55d8d931a4ccb7d656a"
  },
  "kernelspec": {
   "display_name": "Python 3.8.5 64-bit ('base': conda)",
   "language": "python",
   "name": "python3"
  },
  "language_info": {
   "codemirror_mode": {
    "name": "ipython",
    "version": 3
   },
   "file_extension": ".py",
   "mimetype": "text/x-python",
   "name": "python",
   "nbconvert_exporter": "python",
   "pygments_lexer": "ipython3",
   "version": "3.8.5"
  },
  "orig_nbformat": 4
 },
 "nbformat": 4,
 "nbformat_minor": 2
}
