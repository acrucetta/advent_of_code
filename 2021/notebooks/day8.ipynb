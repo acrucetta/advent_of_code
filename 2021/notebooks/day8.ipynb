{
 "cells": [
  {
   "cell_type": "markdown",
   "metadata": {},
   "source": [
    "    0:      1:      2:      3:      4:\n",
    "    aaaa    ....    aaaa    aaaa    ....\n",
    "    b    c  .    c  .    c  .    c  b    c\n",
    "    b    c  .    c  .    c  .    c  b    c\n",
    "    ....    ....    dddd    dddd    dddd\n",
    "    e    f  .    f  e    .  .    f  .    f\n",
    "    e    f  .    f  e    .  .    f  .    f\n",
    "    gggg    ....    gggg    gggg    ....\n",
    "\n",
    "    5:      6:      7:      8:      9:\n",
    "    aaaa    aaaa    aaaa    aaaa    aaaa\n",
    "    b    .  b    .  .    c  b    c  b    c\n",
    "    b    .  b    .  .    c  b    c  b    c\n",
    "    dddd    dddd    ....    dddd    dddd\n",
    "    .    f  e    f  .    f  e    f  .    f\n",
    "    .    f  e    f  .    f  e    f  .    f\n",
    "    gggg    gggg    ....    gggg    gggg"
   ]
  },
  {
   "cell_type": "markdown",
   "metadata": {},
   "source": [
    "For each display, you watch the changing signals for a while, make a note of all ten unique signal patterns you see, and then write down a single four digit output value (your puzzle input). Using the signal patterns, you should be able to work out which pattern corresponds to which digit."
   ]
  },
  {
   "cell_type": "markdown",
   "metadata": {},
   "source": [
    "For example, here is what you might see in a single entry in your notes:\n",
    "\n",
    "    acedgfb cdfbe gcdfa fbcad dab cefabd cdfgeb eafb cagedb ab | cdfeb fcadb cdfeb cdbaf\n",
    "\n",
    "(The entry is wrapped here to two lines so it fits; in your notes, it will all be on a single line.)\n",
    "\n",
    "Each entry consists of ten unique signal patterns, a | delimiter, and finally the four digit output value."
   ]
  },
  {
   "cell_type": "markdown",
   "metadata": {},
   "source": [
    "The unique signal patterns correspond to the ten different ways the submarine tries to render a digit using the current wire/segment connections. Because 7 is the only digit that uses three segments, dab in the above example means that to render a 7, signal lines d, a, and b are on. Because 4 is the only digit that uses four segments, eafb means that to render a 4, signal lines e, a, f, and b are on."
   ]
  },
  {
   "cell_type": "markdown",
   "metadata": {},
   "source": [
    "Using this information, you should be able to work out which combination of signal wires corresponds to each of the ten digits. Then, you can decode the four digit output value. Unfortunately, in the above example, all of the digits in the output value (cdfeb fcadb cdfeb cdbaf) use five segments and are more difficult to deduce."
   ]
  },
  {
   "cell_type": "markdown",
   "metadata": {},
   "source": [
    "For now, focus on the easy digits. Consider this larger example:\n",
    "\n",
    "    be cfbegad cbdgef fgaecd cgeb fdcge agebfd fecdb fabcd edb | fdgacbe cefdb cefbgd gcbe\n",
    "    edbfga begcd cbg gc gcadebf fbgde acbgfd abcde gfcbed gfec | fcgedb cgb dgebacf gc\n",
    "    fgaebd cg bdaec gdafb agbcfd gdcbef bgcad gfac gcb cdgabef | cg cg fdcagb cbg\n",
    "    fbegcd cbd adcefb dageb afcb bc aefdc ecdab fgdeca fcdbega | efabcd cedba gadfec cb\n",
    "    aecbfdg fbg gf bafeg dbefa fcge gcbea fcaegb dgceab fcbdga | gecf egdcabf bgf bfgea\n",
    "    fgeab ca afcebg bdacfeg cfaedg gcfdb baec bfadeg bafgc acf | gebdcfa ecba ca fadegcb\n",
    "    dbcfg fgd bdegcaf fgec aegbdf ecdfab fbedc dacgb gdcebf gf | cefg dcbef fcge gbcadfe\n",
    "    bdfegc cbegaf gecbf dfcage bdacg ed bedf ced adcbefg gebcd | ed bcgafe cdgba cbgef\n",
    "    egadfb cdbfeg cegd fecab cgb gbdefca cg fgcdab egfdb bfceg | gbdfcae bgc cg cgb\n",
    "    gcafb gcf dcaebfg ecagb gf abcdeg gaef cafbge fdbac fegbdc | fgae cfgab fg bagce"
   ]
  },
  {
   "cell_type": "markdown",
   "metadata": {},
   "source": [
    "Because the digits 1, 4, 7, and 8 each use a unique number of segments, you should be able to tell which combinations of signals correspond to those digits. Counting only digits in the output values (the part after | on each line), in the above example, there are 26 instances of digits that use a unique number of segments (highlighted above).\n",
    "\n",
    "In the output values, how many times do digits 1, 4, 7, or 8 appear?"
   ]
  },
  {
   "cell_type": "markdown",
   "metadata": {},
   "source": [
    "    0: 6\n",
    "    1: 2\n",
    "    2: 5\n",
    "    3: 5\n",
    "    4: 4\n",
    "    5: 5\n",
    "    6: 6\n",
    "    7: 3\n",
    "    8: 7\n",
    "    9: 6    "
   ]
  },
  {
   "cell_type": "code",
   "execution_count": 1,
   "metadata": {},
   "outputs": [],
   "source": [
    "number_dict = {1:2,4:4,7:3,8:7}"
   ]
  },
  {
   "cell_type": "code",
   "execution_count": 2,
   "metadata": {},
   "outputs": [],
   "source": [
    "full_path = '/Users/andrescrucettanieto/Documents/GitHub/advent_of_code/2021/data/08.txt'\n",
    "test_path = '/Users/andrescrucettanieto/Documents/GitHub/advent_of_code/2021/data/08_test2.txt'\n",
    "def read_input(filepath):\n",
    "    with open(filepath) as f:\n",
    "        data = f.readlines()\n",
    "        signal = list(map(lambda x: x.split(\"|\")[0].split(),data))\n",
    "        test_input = list(map(lambda x: x.split(\"|\")[1].strip(\"\\n\").strip().split(),data))\n",
    "        return test_input, signal"
   ]
  },
  {
   "cell_type": "code",
   "execution_count": 3,
   "metadata": {},
   "outputs": [],
   "source": [
    "test_input,test_signal = read_input(test_path)\n",
    "full_input,full_signal = read_input(full_path)"
   ]
  },
  {
   "cell_type": "code",
   "execution_count": 4,
   "metadata": {},
   "outputs": [
    {
     "data": {
      "text/plain": [
       "[['be',\n",
       "  'cfbegad',\n",
       "  'cbdgef',\n",
       "  'fgaecd',\n",
       "  'cgeb',\n",
       "  'fdcge',\n",
       "  'agebfd',\n",
       "  'fecdb',\n",
       "  'fabcd',\n",
       "  'edb'],\n",
       " ['edbfga',\n",
       "  'begcd',\n",
       "  'cbg',\n",
       "  'gc',\n",
       "  'gcadebf',\n",
       "  'fbgde',\n",
       "  'acbgfd',\n",
       "  'abcde',\n",
       "  'gfcbed',\n",
       "  'gfec'],\n",
       " ['fgaebd',\n",
       "  'cg',\n",
       "  'bdaec',\n",
       "  'gdafb',\n",
       "  'agbcfd',\n",
       "  'gdcbef',\n",
       "  'bgcad',\n",
       "  'gfac',\n",
       "  'gcb',\n",
       "  'cdgabef'],\n",
       " ['fbegcd',\n",
       "  'cbd',\n",
       "  'adcefb',\n",
       "  'dageb',\n",
       "  'afcb',\n",
       "  'bc',\n",
       "  'aefdc',\n",
       "  'ecdab',\n",
       "  'fgdeca',\n",
       "  'fcdbega'],\n",
       " ['aecbfdg',\n",
       "  'fbg',\n",
       "  'gf',\n",
       "  'bafeg',\n",
       "  'dbefa',\n",
       "  'fcge',\n",
       "  'gcbea',\n",
       "  'fcaegb',\n",
       "  'dgceab',\n",
       "  'fcbdga'],\n",
       " ['fgeab',\n",
       "  'ca',\n",
       "  'afcebg',\n",
       "  'bdacfeg',\n",
       "  'cfaedg',\n",
       "  'gcfdb',\n",
       "  'baec',\n",
       "  'bfadeg',\n",
       "  'bafgc',\n",
       "  'acf'],\n",
       " ['dbcfg',\n",
       "  'fgd',\n",
       "  'bdegcaf',\n",
       "  'fgec',\n",
       "  'aegbdf',\n",
       "  'ecdfab',\n",
       "  'fbedc',\n",
       "  'dacgb',\n",
       "  'gdcebf',\n",
       "  'gf'],\n",
       " ['bdfegc',\n",
       "  'cbegaf',\n",
       "  'gecbf',\n",
       "  'dfcage',\n",
       "  'bdacg',\n",
       "  'ed',\n",
       "  'bedf',\n",
       "  'ced',\n",
       "  'adcbefg',\n",
       "  'gebcd'],\n",
       " ['egadfb',\n",
       "  'cdbfeg',\n",
       "  'cegd',\n",
       "  'fecab',\n",
       "  'cgb',\n",
       "  'gbdefca',\n",
       "  'cg',\n",
       "  'fgcdab',\n",
       "  'egfdb',\n",
       "  'bfceg'],\n",
       " ['gcafb',\n",
       "  'gcf',\n",
       "  'dcaebfg',\n",
       "  'ecagb',\n",
       "  'gf',\n",
       "  'abcdeg',\n",
       "  'gaef',\n",
       "  'cafbge',\n",
       "  'fdbac',\n",
       "  'fegbdc']]"
      ]
     },
     "execution_count": 4,
     "metadata": {},
     "output_type": "execute_result"
    }
   ],
   "source": [
    "test_signal"
   ]
  },
  {
   "cell_type": "code",
   "execution_count": 5,
   "metadata": {},
   "outputs": [],
   "source": [
    "def count_letters(input,number_dict):\n",
    "    count = 0\n",
    "    letter_matches = list(number_dict.values())\n",
    "    for line in input:\n",
    "        for letters in line:\n",
    "            if len(letters) in letter_matches:\n",
    "                count += 1\n",
    "    return count"
   ]
  },
  {
   "cell_type": "code",
   "execution_count": 6,
   "metadata": {},
   "outputs": [
    {
     "data": {
      "text/plain": [
       "247"
      ]
     },
     "execution_count": 6,
     "metadata": {},
     "output_type": "execute_result"
    }
   ],
   "source": [
    "count_letters(full_input,number_dict)"
   ]
  },
  {
   "cell_type": "markdown",
   "metadata": {},
   "source": [
    "### Part 2"
   ]
  },
  {
   "cell_type": "markdown",
   "metadata": {},
   "source": [
    "After some careful analysis, the mapping between signal wires and segments only make sense in the following configuration:\n",
    "\n",
    "    dddd\n",
    "    e    a\n",
    "    e    a\n",
    "    ffff\n",
    "    g    b\n",
    "    g    b\n",
    "    cccc\n"
   ]
  },
  {
   "cell_type": "markdown",
   "metadata": {},
   "source": [
    "So, the unique signal patterns would correspond to the following digits:\n",
    "\n",
    "    acedgfb: 8\n",
    "    cdfbe: 5\n",
    "    gcdfa: 2\n",
    "    fbcad: 3\n",
    "    dab: 7\n",
    "    cefabd: 9\n",
    "    cdfgeb: 6\n",
    "    eafb: 4\n",
    "    cagedb: 0\n",
    "    ab: 1"
   ]
  },
  {
   "cell_type": "markdown",
   "metadata": {},
   "source": [
    "Following this same process for each entry in the second, larger example above, the output value of each entry can be determined:\n",
    "\n",
    "    fdgacbe cefdb cefbgd gcbe: 8394\n",
    "    fcgedb cgb dgebacf gc: 9781\n",
    "    cg cg fdcagb cbg: 1197\n",
    "    efabcd cedba gadfec cb: 9361\n",
    "    gecf egdcabf bgf bfgea: 4873\n",
    "    gebdcfa ecba ca fadegcb: 8418\n",
    "    cefg dcbef fcge gbcadfe: 4548\n",
    "    ed bcgafe cdgba cbgef: 1625\n",
    "    gbdfcae bgc cg cgb: 8717\n",
    "    fgae cfgab fg bagce: 4315\n"
   ]
  },
  {
   "cell_type": "markdown",
   "metadata": {},
   "source": [
    "For each entry, determine all of the wire/segment connections and decode the four-digit output values. What do you get if you add up all of the output values?"
   ]
  },
  {
   "cell_type": "code",
   "execution_count": 7,
   "metadata": {},
   "outputs": [
    {
     "data": {
      "text/plain": [
       "'\\nGeneral approach:\\n- Figure out which are the unique numbers that can give off the structure for each number:\\n    - Example: 1, once we know that c and g are on the right hand side. \\n    Then, we know that the numbers: 3, 4, 7, 8, and 9 must have c and g.\\n- Once we know this, we can create our own dictionary of numbers that must be part\\nof the solution for each row. We will keep updating this solution for each row.\\n'"
      ]
     },
     "execution_count": 7,
     "metadata": {},
     "output_type": "execute_result"
    }
   ],
   "source": [
    "'''\n",
    "General approach:\n",
    "- Figure out which are the unique numbers that can give off the structure for each number:\n",
    "    - Example: 1, once we know that c and g are on the right hand side. \n",
    "    Then, we know that the numbers: 3, 4, 7, 8, and 9 must have c and g.\n",
    "- Once we know this, we can create our own dictionary of numbers that must be part\n",
    "of the solution for each row. We will keep updating this solution for each row.\n",
    "'''"
   ]
  },
  {
   "cell_type": "code",
   "execution_count": 8,
   "metadata": {},
   "outputs": [
    {
     "name": "stdout",
     "output_type": "stream",
     "text": [
      "['fdgacbe', 'cefdb', 'cefbgd', 'gcbe']\n",
      "[7, 5, 6, 4]\n"
     ]
    }
   ],
   "source": [
    "print(test_input[0])\n",
    "print([len(char) for char in test_input[0]])"
   ]
  },
  {
   "cell_type": "code",
   "execution_count": 24,
   "metadata": {},
   "outputs": [],
   "source": [
    "# Create a dictionary with the number and the letters\n",
    "# associated with it.\n",
    "\n",
    "unique_letters = {1:2,4:4,7:3,8:7}\n",
    "\n",
    "# Build signal\n",
    "def get_signal(signal_line):\n",
    "    '''\n",
    "    Creates the signal for the unique numbers.\n",
    "    '''\n",
    "    letter_sets = {}\n",
    "    for char in signal_line:\n",
    "        # Searching for the unique letters\n",
    "        if len(char) in unique_letters.values():\n",
    "            for key, value in unique_letters.items():\n",
    "                if value == len(char):\n",
    "                    letter_sets[key] = set(char)\n",
    "    return letter_sets\n",
    "\n",
    "def calculate_values(test_line,letter_sets):\n",
    "    '''\n",
    "    Predicts the numbers by comparing them with the \n",
    "    signal file.\n",
    "    '''\n",
    "    found_numbers = [0]*len(test_line)\n",
    "    for char in test_line:\n",
    "        set_char = set(char)\n",
    "        if len(char) == 2:\n",
    "            found_numbers.append(1)\n",
    "        elif len(char) == 3:\n",
    "            found_numbers.append(7)\n",
    "        elif len(char) == 4:\n",
    "            found_numbers.append(4)\n",
    "        elif len(char) == 7:\n",
    "            found_numbers.append(8)\n",
    "        elif len(char) == 5:\n",
    "            if letter_sets[7].issubset(set_char):\n",
    "                found_numbers.append(3)\n",
    "            else:\n",
    "                if len(set_char.intersection(letter_sets[4])) == 3:\n",
    "                    found_numbers.append(5)\n",
    "                else:\n",
    "                    found_numbers.append(2)\n",
    "        elif len(char) == 6:\n",
    "            if letter_sets[4].issubset(set_char):\n",
    "                found_numbers.append(9)\n",
    "            else:\n",
    "                if letter_sets[7].issubset(set_char):\n",
    "                    found_numbers.append(0)\n",
    "                else:\n",
    "                    found_numbers.append(6)\n",
    "    return found_numbers"
   ]
  },
  {
   "cell_type": "code",
   "execution_count": 25,
   "metadata": {},
   "outputs": [],
   "source": [
    "def combine_num(lst):\n",
    "    strings = [str(integ) for integ in lst]\n",
    "    a_string = ''.join(strings)\n",
    "    an_integer = int(a_string)\n",
    "    return an_integer"
   ]
  },
  {
   "cell_type": "code",
   "execution_count": 26,
   "metadata": {},
   "outputs": [],
   "source": [
    "def add_all_output(output_list):\n",
    "    '''\n",
    "    Adds all the numbers in the output list.\n",
    "    '''\n",
    "    total = 0\n",
    "    for number in output_list:\n",
    "        total += combine_num(number)\n",
    "    return total"
   ]
  },
  {
   "cell_type": "code",
   "execution_count": 27,
   "metadata": {},
   "outputs": [],
   "source": [
    "def iterate_input(input,signal):\n",
    "    '''\n",
    "    Iterates through the input and creates the output.\n",
    "    '''\n",
    "    output = []\n",
    "    for i in range(len(input)):\n",
    "        letter_sets = get_signal(signal[i])\n",
    "        num = calculate_values(input[i],letter_sets)\n",
    "        int_num = combine_num(num)\n",
    "        print(int_num)\n",
    "        output.append(int_num)\n",
    "    return sum(output)"
   ]
  },
  {
   "cell_type": "code",
   "execution_count": 29,
   "metadata": {},
   "outputs": [
    {
     "name": "stdout",
     "output_type": "stream",
     "text": [
      "1915\n",
      "8329\n",
      "2320\n",
      "8367\n",
      "9991\n",
      "3436\n",
      "9254\n",
      "359\n",
      "1710\n",
      "9792\n",
      "8684\n",
      "4762\n",
      "7587\n",
      "3430\n",
      "6429\n",
      "6968\n",
      "8116\n",
      "6827\n",
      "2152\n",
      "693\n",
      "333\n",
      "6368\n",
      "268\n",
      "290\n",
      "3473\n",
      "9096\n",
      "5108\n",
      "7526\n",
      "3520\n",
      "5953\n",
      "2542\n",
      "8532\n",
      "2603\n",
      "7530\n",
      "4666\n",
      "492\n",
      "7630\n",
      "5391\n",
      "2024\n",
      "912\n",
      "600\n",
      "5880\n",
      "3783\n",
      "3826\n",
      "1957\n",
      "812\n",
      "5333\n",
      "2436\n",
      "6660\n",
      "3336\n",
      "2913\n",
      "1891\n",
      "4554\n",
      "8762\n",
      "319\n",
      "3048\n",
      "1063\n",
      "253\n",
      "4451\n",
      "1333\n",
      "7924\n",
      "6695\n",
      "1036\n",
      "2805\n",
      "9696\n",
      "1369\n",
      "5825\n",
      "8605\n",
      "6099\n",
      "8740\n",
      "3838\n",
      "6990\n",
      "5251\n",
      "1321\n",
      "1051\n",
      "5259\n",
      "3227\n",
      "3972\n",
      "8006\n",
      "7512\n",
      "5924\n",
      "596\n",
      "692\n",
      "8188\n",
      "7000\n",
      "5017\n",
      "3085\n",
      "8850\n",
      "3043\n",
      "6556\n",
      "9822\n",
      "7658\n",
      "4125\n",
      "6389\n",
      "2639\n",
      "3063\n",
      "7995\n",
      "2198\n",
      "1540\n",
      "9923\n",
      "5624\n",
      "1933\n",
      "672\n",
      "7221\n",
      "5888\n",
      "9764\n",
      "7289\n",
      "3281\n",
      "4792\n",
      "857\n",
      "9868\n",
      "7253\n",
      "1507\n",
      "3251\n",
      "152\n",
      "1918\n",
      "3321\n",
      "151\n",
      "189\n",
      "8206\n",
      "5994\n",
      "5460\n",
      "995\n",
      "9048\n",
      "594\n",
      "5086\n",
      "1258\n",
      "9190\n",
      "6315\n",
      "4462\n",
      "1217\n",
      "42\n",
      "8144\n",
      "4613\n",
      "963\n",
      "9893\n",
      "5546\n",
      "6913\n",
      "479\n",
      "8706\n",
      "4312\n",
      "6461\n",
      "6243\n",
      "1432\n",
      "2039\n",
      "3369\n",
      "7646\n",
      "2822\n",
      "3240\n",
      "8242\n",
      "2610\n",
      "7509\n",
      "9000\n",
      "1962\n",
      "2922\n",
      "1531\n",
      "2703\n",
      "4292\n",
      "3562\n",
      "8292\n",
      "9665\n",
      "1573\n",
      "6278\n",
      "2322\n",
      "9956\n",
      "2663\n",
      "3030\n",
      "136\n",
      "2509\n",
      "2654\n",
      "6226\n",
      "4837\n",
      "226\n",
      "3190\n",
      "3981\n",
      "3303\n",
      "9424\n",
      "304\n",
      "3275\n",
      "2733\n",
      "9075\n",
      "2484\n",
      "6032\n",
      "7837\n",
      "1245\n",
      "4232\n",
      "9025\n",
      "7213\n",
      "3825\n",
      "9824\n",
      "7405\n",
      "5363\n",
      "1498\n",
      "5832\n",
      "9169\n",
      "5547\n",
      "2533\n",
      "7773\n",
      "4456\n",
      "8296\n"
     ]
    },
    {
     "data": {
      "text/plain": [
       "933305"
      ]
     },
     "execution_count": 29,
     "metadata": {},
     "output_type": "execute_result"
    }
   ],
   "source": [
    "iterate_input(full_input,full_signal)"
   ]
  },
  {
   "cell_type": "code",
   "execution_count": null,
   "metadata": {},
   "outputs": [],
   "source": []
  }
 ],
 "metadata": {
  "interpreter": {
   "hash": "e94c633992c6d0be27e4b04a1c9349b29ea3a18f141ab55d8d931a4ccb7d656a"
  },
  "kernelspec": {
   "display_name": "Python 3.8.5 64-bit ('base': conda)",
   "language": "python",
   "name": "python3"
  },
  "language_info": {
   "codemirror_mode": {
    "name": "ipython",
    "version": 3
   },
   "file_extension": ".py",
   "mimetype": "text/x-python",
   "name": "python",
   "nbconvert_exporter": "python",
   "pygments_lexer": "ipython3",
   "version": "3.8.5"
  },
  "orig_nbformat": 4
 },
 "nbformat": 4,
 "nbformat_minor": 2
}
