{
 "cells": [
  {
   "cell_type": "code",
   "execution_count": 1,
   "metadata": {},
   "outputs": [],
   "source": [
    "import numpy as np\n",
    "import pandas as pd"
   ]
  },
  {
   "cell_type": "code",
   "execution_count": 2,
   "metadata": {},
   "outputs": [],
   "source": [
    "testpath = '/Users/andrescrucettanieto/Documents/GitHub/advent_of_code/2021/data/09_test.txt'\n",
    "fullpath = '/Users/andrescrucettanieto/Documents/GitHub/advent_of_code/2021/data/09.txt'\n",
    "\n",
    "def read_input(filepath):\n",
    "    '''\n",
    "    Reads matrix from the filepath.\n",
    "    '''\n",
    "    with open(filepath) as f:\n",
    "        data = f.readlines()\n",
    "    rows = list(map(lambda x: x.strip('\\n'),data))\n",
    "    matrix = []\n",
    "    for row in rows:\n",
    "        split_row = [int(r) for r in row]\n",
    "        matrix.append(split_row)\n",
    "    return np.array(matrix)"
   ]
  },
  {
   "cell_type": "code",
   "execution_count": 3,
   "metadata": {},
   "outputs": [],
   "source": [
    "test_matrix = read_input(testpath)\n",
    "full_matrix = read_input(fullpath)"
   ]
  },
  {
   "cell_type": "code",
   "execution_count": 4,
   "metadata": {},
   "outputs": [
    {
     "data": {
      "text/plain": [
       "array([[5, 4, 5, ..., 8, 9, 9],\n",
       "       [4, 3, 4, ..., 6, 6, 8],\n",
       "       [1, 2, 9, ..., 4, 5, 7],\n",
       "       ...,\n",
       "       [1, 0, 1, ..., 9, 6, 7],\n",
       "       [2, 1, 2, ..., 4, 5, 6],\n",
       "       [3, 6, 5, ..., 2, 3, 7]])"
      ]
     },
     "execution_count": 4,
     "metadata": {},
     "output_type": "execute_result"
    }
   ],
   "source": [
    "full_matrix"
   ]
  },
  {
   "cell_type": "markdown",
   "metadata": {},
   "source": [
    "### Part 1"
   ]
  },
  {
   "cell_type": "markdown",
   "metadata": {},
   "source": [
    "General approach:\n",
    "- Iterate over each cell\n",
    "- Get the values around each of the cells\n",
    "- Find cell indices where all of the values adjacent to each cell are lower than the cell\n",
    "- Add the risk level to the low points and then sum them"
   ]
  },
  {
   "cell_type": "code",
   "execution_count": 5,
   "metadata": {},
   "outputs": [],
   "source": [
    "def get_valleys(arr):\n",
    "    '''\n",
    "    Returns a list of the values of each\n",
    "    of the valleys in an nxp array.\n",
    "    '''\n",
    "    rows, columns = np.shape(arr)\n",
    "    rows = rows-1 \n",
    "    columns = columns-1\n",
    "    lowest = []\n",
    "    for i,row in enumerate(arr):\n",
    "        for j,cel in enumerate(row):\n",
    "            curr = cel\n",
    "            smallest = True\n",
    "            # Checking for adjacent conditions\n",
    "            left, right = True, True\n",
    "            down, up = True, True\n",
    "            \n",
    "            if (i-1)<0: up = False\n",
    "            if (i+1)>rows: down = False\n",
    "            if (j-1)<0: left = False\n",
    "            if (j+1)>columns: right = False\n",
    "            \n",
    "            if left:\n",
    "                left = arr[i,j-1]\n",
    "                if left <= curr: \n",
    "                    smallest = False\n",
    "            if right:\n",
    "                right = arr[i,j+1]\n",
    "                if right <= curr: \n",
    "                    smallest = False\n",
    "            if up:\n",
    "                up = arr[i-1,j]\n",
    "                if up <= curr: \n",
    "                    smallest = False\n",
    "            if down:\n",
    "                down = arr[i+1,j]\n",
    "                if down <= curr:\n",
    "                    smallest = False\n",
    "            if smallest:\n",
    "                lowest.append(curr)\n",
    "    return lowest"
   ]
  },
  {
   "cell_type": "code",
   "execution_count": 6,
   "metadata": {},
   "outputs": [],
   "source": [
    "def calculate_risk(valleys):\n",
    "    '''\n",
    "    Calculates the risk levels of all low points in the height map\n",
    "    '''\n",
    "    sum = 0\n",
    "    for i in valleys:\n",
    "        sum += i+1\n",
    "    return sum"
   ]
  },
  {
   "cell_type": "code",
   "execution_count": 7,
   "metadata": {},
   "outputs": [
    {
     "data": {
      "text/plain": [
       "506"
      ]
     },
     "execution_count": 7,
     "metadata": {},
     "output_type": "execute_result"
    }
   ],
   "source": [
    "calculate_risk(get_valleys(full_matrix))"
   ]
  },
  {
   "cell_type": "markdown",
   "metadata": {},
   "source": [
    "### Part 2"
   ]
  },
  {
   "cell_type": "code",
   "execution_count": 8,
   "metadata": {},
   "outputs": [
    {
     "data": {
      "text/plain": [
       "array([[2, 1, 9, 9, 9, 4, 3, 2, 1, 0],\n",
       "       [3, 9, 8, 7, 8, 9, 4, 9, 2, 1],\n",
       "       [9, 8, 5, 6, 7, 8, 9, 8, 9, 2],\n",
       "       [8, 7, 6, 7, 8, 9, 6, 7, 8, 9],\n",
       "       [9, 8, 9, 9, 9, 6, 5, 6, 7, 8]])"
      ]
     },
     "execution_count": 8,
     "metadata": {},
     "output_type": "execute_result"
    }
   ],
   "source": [
    "test_matrix"
   ]
  },
  {
   "cell_type": "markdown",
   "metadata": {},
   "source": [
    "General approach:\n",
    "- Make 9's values -1\n",
    "- Do a search starting from the lowest number around and find all of the connected values"
   ]
  },
  {
   "cell_type": "code",
   "execution_count": 12,
   "metadata": {},
   "outputs": [],
   "source": [
    "test_matrix_neg = np.where(test_matrix==9,-1,test_matrix)"
   ]
  },
  {
   "cell_type": "code",
   "execution_count": 57,
   "metadata": {},
   "outputs": [
    {
     "data": {
      "text/plain": [
       "array([[5, 4, 5, ..., 8, 9, 9],\n",
       "       [4, 3, 4, ..., 6, 6, 8],\n",
       "       [1, 2, 9, ..., 4, 5, 7],\n",
       "       ...,\n",
       "       [1, 0, 1, ..., 9, 6, 7],\n",
       "       [2, 1, 2, ..., 4, 5, 6],\n",
       "       [3, 6, 5, ..., 2, 3, 7]])"
      ]
     },
     "execution_count": 57,
     "metadata": {},
     "output_type": "execute_result"
    }
   ],
   "source": [
    "full_matrix"
   ]
  },
  {
   "cell_type": "code",
   "execution_count": 61,
   "metadata": {},
   "outputs": [],
   "source": [
    "from collections import deque as queue\n",
    "\n",
    "dRow = [-1,0,1,0]\n",
    "dCol = [0,1,0,-1]\n",
    "full_matrix_neg = np.where(full_matrix==9,-1,full_matrix)\n",
    "\n",
    "# Function to check if a cell is in bounds\n",
    "def isValid(grid,vis,row,col):\n",
    "    \n",
    "    # If cell is out of bounds, return False\n",
    "    if (row < 0 or col < 0 or row >= len(vis) or col >= len(vis[0])):\n",
    "        return False\n",
    "    \n",
    "    # Check if cell is -1\n",
    "    if grid[row][col] == -1:\n",
    "        return False\n",
    "    \n",
    "    # If cell is already visited, return False\n",
    "    if (vis[row][col]):\n",
    "        return False\n",
    "    \n",
    "    # If cell is valid, return True\n",
    "    return True\n",
    "    \n",
    "# Function to perform the BFS traversal for the numpy grid\n",
    "def BFS(grid, vis, row, col):\n",
    "    \n",
    "    # Store index of the queue\n",
    "    q = queue()\n",
    "    \n",
    "    # Marked the current cell as visited\n",
    "    # and enqueue it\n",
    "    q.append([row,col])\n",
    "    vis[row][col] = True\n",
    "    \n",
    "    # Storing the value of the current cell\n",
    "    storage = []\n",
    "    \n",
    "    # Iterate while the queue is not empty\n",
    "    while (len(q)>0):\n",
    "        cell = q.popleft()\n",
    "        x = cell[0]\n",
    "        y = cell[1]\n",
    "        # print(grid[x][y],end=\" \")\n",
    "        storage.append(grid[x][y])\n",
    "        \n",
    "        # Iterate through all adjacent cells\n",
    "        for i in range(4):\n",
    "            if isValid(grid,vis,x+dRow[i],y+dCol[i]):\n",
    "                q.append([x+dRow[i],y+dCol[i]])\n",
    "                vis[x+dRow[i]][y+dCol[i]] = True\n",
    "    return storage"
   ]
  },
  {
   "cell_type": "code",
   "execution_count": 62,
   "metadata": {},
   "outputs": [],
   "source": [
    "# Declare the visited matrix\n",
    "vis = [[False for i in range(len(test_matrix[0]))] for j in range(len(test_matrix))]\n",
    "\n",
    "# vis, False for all cells\n",
    "lst = BFS(test_matrix_neg,vis,0,9)"
   ]
  },
  {
   "cell_type": "code",
   "execution_count": 63,
   "metadata": {},
   "outputs": [],
   "source": [
    "# Test GFS for all cells\n",
    "def iterate_BFS(grid):\n",
    "    vis = [[False for i in range(len(grid[0]))] for j in range(len(grid))]\n",
    "    iter_lst = []\n",
    "    for i in range(len(grid)):\n",
    "        for j in range(len(grid[0])):\n",
    "            if grid[i][j] != -1 and not vis[i][j]:\n",
    "                iter_lst.append([BFS(grid,vis,i,j),i,j])\n",
    "    return iter_lst\n",
    "                "
   ]
  },
  {
   "cell_type": "code",
   "execution_count": 64,
   "metadata": {},
   "outputs": [],
   "source": [
    "def get_top_three_basin(lst):\n",
    "    '''\n",
    "    Get the basin with the 3 longest values and\n",
    "    multiplies their length together\n",
    "    '''\n",
    "    length_lst = []\n",
    "    for nums in lst:\n",
    "        length = len(nums[0])\n",
    "        length_lst.append(length)\n",
    "    # Return the top 3 largest values\n",
    "    top_3 = sorted(length_lst,reverse=True)[:3]\n",
    "    \n",
    "    # Multiply the top 3 values\n",
    "    return top_3[0]*top_3[1]*top_3[2]\n",
    "        "
   ]
  },
  {
   "cell_type": "code",
   "execution_count": 67,
   "metadata": {},
   "outputs": [],
   "source": [
    "lst_basins = iterate_BFS(full_matrix_neg)"
   ]
  },
  {
   "cell_type": "code",
   "execution_count": 68,
   "metadata": {},
   "outputs": [
    {
     "data": {
      "text/plain": [
       "931200"
      ]
     },
     "execution_count": 68,
     "metadata": {},
     "output_type": "execute_result"
    }
   ],
   "source": [
    "get_top_three_basin(lst_basins)"
   ]
  },
  {
   "cell_type": "code",
   "execution_count": null,
   "metadata": {},
   "outputs": [],
   "source": []
  }
 ],
 "metadata": {
  "interpreter": {
   "hash": "e94c633992c6d0be27e4b04a1c9349b29ea3a18f141ab55d8d931a4ccb7d656a"
  },
  "kernelspec": {
   "display_name": "Python 3.8.5 64-bit ('base': conda)",
   "language": "python",
   "name": "python3"
  },
  "language_info": {
   "codemirror_mode": {
    "name": "ipython",
    "version": 3
   },
   "file_extension": ".py",
   "mimetype": "text/x-python",
   "name": "python",
   "nbconvert_exporter": "python",
   "pygments_lexer": "ipython3",
   "version": "3.8.5"
  },
  "orig_nbformat": 4
 },
 "nbformat": 4,
 "nbformat_minor": 2
}
