{
 "cells": [
  {
   "cell_type": "markdown",
   "metadata": {},
   "source": [
    "### Day 1"
   ]
  },
  {
   "cell_type": "code",
   "execution_count": 8,
   "metadata": {},
   "outputs": [],
   "source": [
    "import pandas as pd\n",
    "import numpy as np"
   ]
  },
  {
   "cell_type": "code",
   "execution_count": 2,
   "metadata": {},
   "outputs": [],
   "source": [
    "sonar = pd.read_csv('day1_input.txt', header=None)"
   ]
  },
  {
   "cell_type": "code",
   "execution_count": 3,
   "metadata": {},
   "outputs": [
    {
     "name": "stdout",
     "output_type": "stream",
     "text": [
      "The number of times the value increased is:  1722\n"
     ]
    }
   ],
   "source": [
    "# Creating function to count the number of times a value\n",
    "# increase with respect to the previous value.\n",
    "\n",
    "counter = 0\n",
    "for index in sonar.index:\n",
    "    if index == 0:\n",
    "        continue\n",
    "    else:\n",
    "        prev = sonar.loc[index - 1, 0]\n",
    "        if sonar.loc[index, 0] > prev:\n",
    "            counter += 1\n",
    "print(\"The number of times the value increased is: \", counter)"
   ]
  },
  {
   "cell_type": "markdown",
   "metadata": {},
   "source": [
    "Start by comparing the first and second three-measurement windows. The measurements in the first window are marked A (199, 200, 208); their sum is 199 + 200 + 208 = 607. The second window is marked B (200, 208, 210); its sum is 618. The sum of measurements in the second window is larger than the sum of the first, so this first comparison increased.\n",
    "\n",
    "Your goal now is to count the number of times the sum of measurements in this sliding window increases from the previous sum. So, compare A with B, then compare B with C, then C with D, and so on. Stop when there aren't enough measurements left to create a new three-measurement sum.\n",
    "\n",
    "Consider sums of a three-measurement sliding window. How many sums are larger than the previous sum?"
   ]
  },
  {
   "cell_type": "code",
   "execution_count": 16,
   "metadata": {},
   "outputs": [
    {
     "data": {
      "text/plain": [
       "array([185, 186, 182])"
      ]
     },
     "execution_count": 16,
     "metadata": {},
     "output_type": "execute_result"
    }
   ],
   "source": [
    "sonar.loc[0:2, 0].values\n",
    "sonar.loc[1:3, 0].values"
   ]
  },
  {
   "cell_type": "code",
   "execution_count": 17,
   "metadata": {},
   "outputs": [
    {
     "name": "stdout",
     "output_type": "stream",
     "text": [
      "The number of times the 3 window number of consecutive values are increasing is:  1748\n"
     ]
    }
   ],
   "source": [
    "# Creating function to count the number of times\n",
    "# a 3 window number of consecutive values are increasing.\n",
    "\n",
    "counter = 0\n",
    "for i in sonar.index:\n",
    "    if i < 2:\n",
    "        continue\n",
    "    else:\n",
    "        prev_three = np.sum(sonar.loc[i-2:i, 0].values)\n",
    "        next_three = np.sum(sonar.loc[i-1:i+1, 0].values)\n",
    "        if next_three > prev_three:\n",
    "            counter += 1\n",
    "        else:\n",
    "            continue\n",
    "print(\"The number of times the 3 window number of consecutive values are increasing is: \", counter)\n",
    "        "
   ]
  },
  {
   "cell_type": "markdown",
   "metadata": {},
   "source": [
    "### Day 2"
   ]
  },
  {
   "cell_type": "markdown",
   "metadata": {},
   "source": [
    "It seems like the submarine can take a series of commands like forward 1, down 2, or up 3:\n",
    "\n",
    "    forward X increases the horizontal position by X units.\n",
    "    down X increases the depth by X units.\n",
    "    up X decreases the depth by X units.\n",
    "\n",
    "Current directions\n",
    "\n",
    "    forward 5\n",
    "    down 5\n",
    "    forward 8\n",
    "    up 3\n",
    "    down 8\n",
    "    forward 2"
   ]
  },
  {
   "cell_type": "markdown",
   "metadata": {},
   "source": [
    "Calculate the horizontal position and depth you would have after following the planned course. What do you get if you multiply your final horizontal position by your final depth?"
   ]
  },
  {
   "cell_type": "code",
   "execution_count": 18,
   "metadata": {},
   "outputs": [],
   "source": [
    "directions = pd.read_csv('day2_input.txt', header=None)"
   ]
  },
  {
   "cell_type": "code",
   "execution_count": 24,
   "metadata": {},
   "outputs": [],
   "source": [
    "# Split string and integer into two columns\n",
    "# directions.columns = ['direction', 'distance']\n",
    "directions['direction'] = directions[0].str.split().str[0]\n",
    "directions['unit'] = directions[0].str.split().str[1]"
   ]
  },
  {
   "cell_type": "code",
   "execution_count": 25,
   "metadata": {},
   "outputs": [
    {
     "data": {
      "text/html": [
       "<div>\n",
       "<style scoped>\n",
       "    .dataframe tbody tr th:only-of-type {\n",
       "        vertical-align: middle;\n",
       "    }\n",
       "\n",
       "    .dataframe tbody tr th {\n",
       "        vertical-align: top;\n",
       "    }\n",
       "\n",
       "    .dataframe thead th {\n",
       "        text-align: right;\n",
       "    }\n",
       "</style>\n",
       "<table border=\"1\" class=\"dataframe\">\n",
       "  <thead>\n",
       "    <tr style=\"text-align: right;\">\n",
       "      <th></th>\n",
       "      <th>0</th>\n",
       "      <th>direction</th>\n",
       "      <th>unit</th>\n",
       "    </tr>\n",
       "  </thead>\n",
       "  <tbody>\n",
       "    <tr>\n",
       "      <th>0</th>\n",
       "      <td>forward 2</td>\n",
       "      <td>forward</td>\n",
       "      <td>2</td>\n",
       "    </tr>\n",
       "    <tr>\n",
       "      <th>1</th>\n",
       "      <td>forward 6</td>\n",
       "      <td>forward</td>\n",
       "      <td>6</td>\n",
       "    </tr>\n",
       "    <tr>\n",
       "      <th>2</th>\n",
       "      <td>forward 8</td>\n",
       "      <td>forward</td>\n",
       "      <td>8</td>\n",
       "    </tr>\n",
       "    <tr>\n",
       "      <th>3</th>\n",
       "      <td>forward 7</td>\n",
       "      <td>forward</td>\n",
       "      <td>7</td>\n",
       "    </tr>\n",
       "    <tr>\n",
       "      <th>4</th>\n",
       "      <td>down 5</td>\n",
       "      <td>down</td>\n",
       "      <td>5</td>\n",
       "    </tr>\n",
       "    <tr>\n",
       "      <th>...</th>\n",
       "      <td>...</td>\n",
       "      <td>...</td>\n",
       "      <td>...</td>\n",
       "    </tr>\n",
       "    <tr>\n",
       "      <th>995</th>\n",
       "      <td>up 6</td>\n",
       "      <td>up</td>\n",
       "      <td>6</td>\n",
       "    </tr>\n",
       "    <tr>\n",
       "      <th>996</th>\n",
       "      <td>forward 3</td>\n",
       "      <td>forward</td>\n",
       "      <td>3</td>\n",
       "    </tr>\n",
       "    <tr>\n",
       "      <th>997</th>\n",
       "      <td>up 2</td>\n",
       "      <td>up</td>\n",
       "      <td>2</td>\n",
       "    </tr>\n",
       "    <tr>\n",
       "      <th>998</th>\n",
       "      <td>forward 9</td>\n",
       "      <td>forward</td>\n",
       "      <td>9</td>\n",
       "    </tr>\n",
       "    <tr>\n",
       "      <th>999</th>\n",
       "      <td>forward 2</td>\n",
       "      <td>forward</td>\n",
       "      <td>2</td>\n",
       "    </tr>\n",
       "  </tbody>\n",
       "</table>\n",
       "<p>1000 rows × 3 columns</p>\n",
       "</div>"
      ],
      "text/plain": [
       "             0 direction unit\n",
       "0    forward 2   forward    2\n",
       "1    forward 6   forward    6\n",
       "2    forward 8   forward    8\n",
       "3    forward 7   forward    7\n",
       "4       down 5      down    5\n",
       "..         ...       ...  ...\n",
       "995       up 6        up    6\n",
       "996  forward 3   forward    3\n",
       "997       up 2        up    2\n",
       "998  forward 9   forward    9\n",
       "999  forward 2   forward    2\n",
       "\n",
       "[1000 rows x 3 columns]"
      ]
     },
     "execution_count": 25,
     "metadata": {},
     "output_type": "execute_result"
    }
   ],
   "source": [
    "directions"
   ]
  },
  {
   "cell_type": "code",
   "execution_count": 29,
   "metadata": {},
   "outputs": [
    {
     "name": "stdout",
     "output_type": "stream",
     "text": [
      "The final horizontal position is:  2165\n",
      "The final depth position is:  738712\n",
      "1599311480\n"
     ]
    }
   ],
   "source": [
    "horizontal = 0\n",
    "depth = 0\n",
    "aim = 0\n",
    "\n",
    "# Update the position based on the direction and unit columns\n",
    "for index in directions.index:\n",
    "    if directions.loc[index, 'direction'] == 'forward':\n",
    "        horizontal += int(directions.loc[index, 'unit'])\n",
    "        depth += aim*int(directions.loc[index, 'unit'])\n",
    "    elif directions.loc[index, 'direction'] == 'up':\n",
    "        aim -= int(directions.loc[index, 'unit'])\n",
    "    elif directions.loc[index, 'direction'] == 'down':\n",
    "        aim += int(directions.loc[index, 'unit'])\n",
    "        \n",
    "print(\"The final horizontal position is: \", horizontal)\n",
    "print(\"The final depth position is: \", depth)\n",
    "\n",
    "print(horizontal*depth)"
   ]
  },
  {
   "cell_type": "markdown",
   "metadata": {},
   "source": [
    "### Day 3"
   ]
  },
  {
   "cell_type": "markdown",
   "metadata": {},
   "source": [
    "#### Part 1"
   ]
  },
  {
   "cell_type": "code",
   "execution_count": 1,
   "metadata": {},
   "outputs": [],
   "source": [
    "import pandas as pd\n",
    "import numpy as np"
   ]
  },
  {
   "cell_type": "code",
   "execution_count": 98,
   "metadata": {},
   "outputs": [],
   "source": [
    "bits = pd.read_csv('day3_input.txt', header=None, converters={0: lambda x: str(x)})"
   ]
  },
  {
   "cell_type": "code",
   "execution_count": 99,
   "metadata": {},
   "outputs": [],
   "source": [
    "# Split column 0 into one column for each bit\n",
    "bits['bit_lst'] = bits[0].str.split('')"
   ]
  },
  {
   "cell_type": "code",
   "execution_count": 100,
   "metadata": {},
   "outputs": [],
   "source": [
    "bit_df = bits.bit_lst.apply(pd.Series)"
   ]
  },
  {
   "cell_type": "code",
   "execution_count": 101,
   "metadata": {},
   "outputs": [],
   "source": [
    "# Drop columns with no values\n",
    "bit_df.drop(columns=[0,13], inplace=True)"
   ]
  },
  {
   "cell_type": "code",
   "execution_count": 83,
   "metadata": {},
   "outputs": [],
   "source": [
    "\n",
    "# Get most common value in each column\n",
    "max_values = bit_df.mode(axis=0)\n",
    "\n",
    "least_common = []\n",
    "# Get the least common value in each column\n",
    "for col in bit_df.columns:\n",
    "    least_common.append(bit_df[col].value_counts().index[1])"
   ]
  },
  {
   "cell_type": "code",
   "execution_count": 86,
   "metadata": {},
   "outputs": [],
   "source": [
    "max_value_bit = ''\n",
    "min_value_bit = ''\n",
    "\n",
    "for col in max_values.columns:\n",
    "    max_value_bit += str(max_values.loc[0, col])\n",
    "\n",
    "for val in least_common:\n",
    "    min_value_bit += str(val)\n"
   ]
  },
  {
   "cell_type": "code",
   "execution_count": 92,
   "metadata": {},
   "outputs": [],
   "source": [
    "max_val = int(max_value_bit, 2)\n",
    "min_val = int(min_value_bit, 2)"
   ]
  },
  {
   "cell_type": "code",
   "execution_count": 93,
   "metadata": {},
   "outputs": [
    {
     "data": {
      "text/plain": [
       "2743844"
      ]
     },
     "execution_count": 93,
     "metadata": {},
     "output_type": "execute_result"
    }
   ],
   "source": [
    "max_val*min_val"
   ]
  },
  {
   "cell_type": "markdown",
   "metadata": {},
   "source": [
    "#### Part 2"
   ]
  },
  {
   "cell_type": "markdown",
   "metadata": {},
   "source": [
    "The bit criteria depends on which type of rating value you want to find:\n",
    "\n",
    "    To find oxygen generator rating, determine the most common value (0 or 1) in the current bit position, and keep only numbers with that bit in that position. If 0 and 1 are equally common, keep values with a 1 in the position being considered.\n",
    "    \n",
    "    To find CO2 scrubber rating, determine the least common value (0 or 1) in the current bit position, and keep only numbers with that bit in that position. If 0 and 1 are equally common, keep values with a 0 in the position being considered.\n",
    "\n",
    "As there is only one number left, stop; the oxygen generator rating is 10111, or 23 in decimal."
   ]
  },
  {
   "cell_type": "code",
   "execution_count": 147,
   "metadata": {},
   "outputs": [
    {
     "name": "stdout",
     "output_type": "stream",
     "text": [
      "Breaking, returning row value:\n",
      "     1  2  3  4  5  6  7  8  9  10 11 12\n",
      "831  0  1  1  1  1  0  1  1  1  1  0  1\n"
     ]
    }
   ],
   "source": [
    "# Find oxygen generator rating\n",
    "bit_df_iter = bit_df.copy()\n",
    "\n",
    "# Iterate over each column\n",
    "for col in bit_df_iter.columns:\n",
    "    \n",
    "    # Value counts for the df\n",
    "    v_counts = bit_df_iter[col].value_counts()\n",
    "    \n",
    "    # Get most common value in each column\n",
    "    most_common_bit = str(v_counts.index[0])\n",
    "    \n",
    "    # If tie, then use 1\n",
    "    if v_counts[0] == v_counts[1]:\n",
    "        most_common_bit = '1'\n",
    "    \n",
    "    # Filter for the most common bit\n",
    "    bit_df_iter[col] = bit_df_iter[col][bit_df_iter[col] == most_common_bit]\n",
    "    bit_df_iter = bit_df_iter.dropna()\n",
    "    \n",
    "    # If there's only one row left, break, and return the row value\n",
    "    if bit_df_iter.shape[0] == 1:\n",
    "        print(\"Breaking, returning row value:\\n\", bit_df_iter)\n",
    "        oxygen_rating = bit_df_iter\n",
    "        break"
   ]
  },
  {
   "cell_type": "code",
   "execution_count": 157,
   "metadata": {},
   "outputs": [
    {
     "name": "stdout",
     "output_type": "stream",
     "text": [
      "Breaking, returning row value:\n",
      "     1  2  3  4  5  6  7  8  9  10 11 12\n",
      "856  1  1  0  1  0  0  1  0  1  0  1  1\n"
     ]
    }
   ],
   "source": [
    "# Find CO2 scrubber rating\n",
    "bit_df_iter = bit_df.copy()\n",
    "\n",
    "# Iterate over each column\n",
    "for col in bit_df_iter.columns:\n",
    "    \n",
    "    # Value counts for the df\n",
    "    v_counts = bit_df_iter[col].value_counts()\n",
    "    \n",
    "    # Get least common value in each column\n",
    "    least_common_bit = str(v_counts.index[1])\n",
    "    \n",
    "    # If tie, then use 0\n",
    "    if v_counts[0] == v_counts[1]:\n",
    "        least_common_bit = '0'\n",
    "    \n",
    "    # Filter for the most common bit\n",
    "    bit_df_iter[col] = bit_df_iter[col][bit_df_iter[col] == least_common_bit]\n",
    "    bit_df_iter = bit_df_iter.dropna()\n",
    "    \n",
    "    # If there's only one row left, break, and return the row value\n",
    "    if bit_df_iter.shape[0] == 1:\n",
    "        print(\"Breaking, returning row value:\\n\", bit_df_iter)\n",
    "        co2_scrubber = bit_df_iter\n",
    "        break"
   ]
  },
  {
   "cell_type": "code",
   "execution_count": 158,
   "metadata": {},
   "outputs": [],
   "source": [
    "def get_bit_value(df):\n",
    "    bit_value = ''\n",
    "    for col in df.columns:\n",
    "        bit_value += str(df[col].values[0])\n",
    "    return bit_value\n",
    "\n",
    "oxygen_bit = get_bit_value(oxygen_rating)\n",
    "c02_bit = get_bit_value(co2_scrubber)\n",
    "    "
   ]
  },
  {
   "cell_type": "code",
   "execution_count": 159,
   "metadata": {},
   "outputs": [
    {
     "name": "stdout",
     "output_type": "stream",
     "text": [
      "The oxygen generator rating is:  1981\n",
      "The CO2 scrubber rating is:  3371\n"
     ]
    }
   ],
   "source": [
    "print(\"The oxygen generator rating is: \", int(oxygen_bit, 2))\n",
    "print(\"The CO2 scrubber rating is: \", int(c02_bit, 2))"
   ]
  },
  {
   "cell_type": "code",
   "execution_count": 160,
   "metadata": {},
   "outputs": [
    {
     "data": {
      "text/plain": [
       "6677951"
      ]
     },
     "execution_count": 160,
     "metadata": {},
     "output_type": "execute_result"
    }
   ],
   "source": [
    "1981*3371"
   ]
  },
  {
   "cell_type": "code",
   "execution_count": null,
   "metadata": {},
   "outputs": [],
   "source": []
  }
 ],
 "metadata": {
  "interpreter": {
   "hash": "aee8b7b246df8f9039afb4144a1f6fd8d2ca17a180786b69acc140d282b71a49"
  },
  "kernelspec": {
   "display_name": "Python 3.9.0 64-bit",
   "language": "python",
   "name": "python3"
  },
  "language_info": {
   "codemirror_mode": {
    "name": "ipython",
    "version": 3
   },
   "file_extension": ".py",
   "mimetype": "text/x-python",
   "name": "python",
   "nbconvert_exporter": "python",
   "pygments_lexer": "ipython3",
   "version": "3.9.0"
  },
  "orig_nbformat": 4
 },
 "nbformat": 4,
 "nbformat_minor": 2
}
